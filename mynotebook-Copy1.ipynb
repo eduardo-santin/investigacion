{
 "cells": [
  {
   "cell_type": "code",
   "execution_count": 3,
   "metadata": {},
   "outputs": [],
   "source": [
    "#Import cluster algorithms\n",
    "from sklearn.cluster import KMeans, DBSCAN\n",
    "\n",
    "#Import classifiers\n",
    "from sklearn.svm import LinearSVC\n",
    "from sklearn.svm import SVC\n",
    "from sklearn.ensemble import RandomForestClassifier\n",
    "from sklearn.naive_bayes import GaussianNB\n",
    "from sklearn.discriminant_analysis import LinearDiscriminantAnalysis\n",
    "from sklearn.ensemble import VotingClassifier\n",
    "\n",
    "#Import libraries to deal with data\n",
    "import numpy as np\n",
    "import pandas as pd\n",
    "import pickle\n",
    "\n",
    "\n",
    "#Process data libraries\n",
    "from skimage import io\n",
    "from scipy import signal\n",
    "import pylab, wave\n",
    "from scipy.io import wavfile\n",
    "\n",
    "#Miscelanous\n",
    "import math\n",
    "import time\n",
    "import os\n",
    "import warnings\n",
    "\n",
    "\n",
    "#Graphs and show images\n",
    "import itertools\n",
    "import seaborn as sns\n",
    "import matplotlib.pyplot as plt\n",
    "import matplotlib.patches as patches\n",
    "\n",
    "\n",
    "\n",
    "np.random.seed(10)\n",
    "np.set_printoptions(suppress=True)\n",
    "warnings.filterwarnings('ignore')\n",
    "%matplotlib inline \n"
   ]
  },
  {
   "cell_type": "code",
   "execution_count": 4,
   "metadata": {},
   "outputs": [],
   "source": [
    "##############################################\n",
    "#                                            #\n",
    "#                Spectrogram                 #\n",
    "#                                            #\n",
    "##############################################\n",
    "#Function to retrieve data from wav files\n",
    "def wavInfo(rec_file):\n",
    "    sample_rate, samples = wavfile.read(rec_file)\n",
    "    channels  = wave.open(rec_file, 'r').getnchannels()\n",
    "    return sample_rate, samples, channels\n",
    "\n",
    "\n",
    "#Function to calcualte spectrogram\n",
    "def specInfo(rec_file):\n",
    "    sampleRate, samples, channels = wavInfo(rec_file)\n",
    "    \n",
    "    #Solution for one channels\n",
    "    if(channels == 1):\n",
    "        freqs, t, spectrum  = signal.spectrogram(samples[:], nfft=512, window=\"hann\", fs=sampleRate)\n",
    "        \n",
    "    #Solution for two channels\n",
    "    elif(channels == 2):\n",
    "        freqs, t, spectrum = signal.spectrogram(samples[:, 1], nfft=512, window=\"hann\", fs=sampleRate)\n",
    "        \n",
    "        spectrum = spectrum.astype(\"float64\") \n",
    "    return t,freqs,spectrum\n",
    "\n",
    "##############################################\n",
    "#                                            #\n",
    "#              Image/Plotting                #\n",
    "#                                            #\n",
    "##############################################\n",
    "def plotModSpecSimple(times, freqs, specMod, figsize = (8,4), xlab = \"\", ylab = \"\", title = \"\", colorbar = True, patch = None, cmap = \"Purples\"):\n",
    "    \"\"\" \n",
    "        Function to plotspectrograms and bounding boxes in spectrograms\n",
    "        Input:\n",
    "            times - np array containing time steps (shape X,1)\n",
    "            freqs - np array containing frequency steps (shape Y,1)\n",
    "            specMod - np array containing magnitude values on each time step for each frequency (shape - (Y,X))\n",
    "            figsize - list containing width and height size for the figure\n",
    "            xlab - string containining label for x axis\n",
    "            ylab - string contaiing label for y axis\n",
    "            title - string containing title for the graph\n",
    "            colorbar - bool value to decide whether graph should contain colorbar graph or not\n",
    "            patch - array containing matplotlib.patches to be applied to the plot\n",
    "            cmap - cmap for color displaying\n",
    "    \"\"\"\n",
    "    \n",
    "    \n",
    "    fig, ax = pylab.subplots(1,1, figsize = figsize)\n",
    "    ax.set_facecolor(\"grey\")\n",
    "    im = ax.pcolormesh(times, freqs,(specMod), cmap= cmap)\n",
    "    \n",
    "    #Plot spectrogram information given\n",
    "    ax.pcolormesh(times, freqs,(specMod), cmap= cmap)\n",
    "    \n",
    "    #Add all patches to figure, if any\n",
    "    if (patch !=None ):\n",
    "        for i in patch:\n",
    "            ax.add_patch(i)\n",
    "    \n",
    "    #Set x axis label\n",
    "    ax.set_xlabel(xlab)\n",
    "    \n",
    "    #Set y axis label\n",
    "    ax.set_ylabel(ylab)\n",
    "    \n",
    "    #Set title label\n",
    "    ax.set_title(title)\n",
    "    \n",
    "    #Set colorbar if wanted\n",
    "    if(colorbar):\n",
    "        fig.colorbar(im, ax=ax)\n",
    "    \n",
    "    \n",
    "def plot_confusion_matrix(cm, classes,\n",
    "                          normalize=False,\n",
    "                          title='Confusion matrix',\n",
    "                          cmap=plt.cm.Blues):\n",
    "    \"\"\"\n",
    "    This function prints and plots the confusion matrix.\n",
    "    Normalization can be applied by setting `normalize=True`.\n",
    "    \"\"\"\n",
    "    if normalize:\n",
    "        cm = cm.astype('float') / cm.sum(axis=1)[:, np.newaxis]\n",
    "        print(\"Normalized confusion matrix\")\n",
    "    else:\n",
    "        print('Confusion matrix, without normalization')\n",
    "\n",
    "    print(cm)\n",
    "\n",
    "    plt.imshow(cm, interpolation='nearest', cmap=cmap)\n",
    "    plt.title(title)\n",
    "    plt.colorbar()\n",
    "    tick_marks = np.arange(len(classes))\n",
    "    plt.xticks(tick_marks, classes, rotation=45)\n",
    "    plt.yticks(tick_marks, classes)\n",
    "\n",
    "    fmt = '.2f' if normalize else 'd'\n",
    "    thresh = cm.max() / 2.\n",
    "    for i, j in itertools.product(range(cm.shape[0]), range(cm.shape[1])):\n",
    "        plt.text(j, i, format(cm[i, j], fmt),\n",
    "                 horizontalalignment=\"center\",\n",
    "                 color=\"white\" if cm[i, j] > thresh else \"black\")\n",
    "\n",
    "    plt.tight_layout()\n",
    "    plt.ylabel('True label')\n",
    "    plt.xlabel('Predicted label')\n",
    "\n",
    "# def visualizeTraining(data, num):\n",
    "    \n",
    "#     for i in range(num):\n",
    "#         startPT = time.time()\n",
    "#         file = data['archivo'][i]\n",
    "#         minf = data['freqme'][i]\n",
    "#         maxf = data['freqma'][i]\n",
    "#         startT = data['tiempoi'][i]\n",
    "#         endT = data['tiempof'][i]\n",
    "#         t, freq,spec, t2,freq2,spec2 = getMarca(file, minf,maxf, startT,endT)\n",
    "        \n",
    "#         #Cluster noise\n",
    "#         clusters = 4\n",
    "#         kCluster = KMeans(clusters)\n",
    "#         flatSpectrum = spec2.flatten().reshape(-1,1)\n",
    "#         res = kCluster.fit_predict(flatSpectrum)\n",
    "#         res = orderClusters(res, flatSpectrum, clusters)\n",
    "        \n",
    "    \n",
    "#         #Set all values other than 0 to 1 \n",
    "#         correctingIdx = np.where(res != 0)[0]\n",
    "#         res = np.zeros(flatSpectrum.shape)\n",
    "#         res[correctingIdx] = 1\n",
    "#         res = res.reshape(spec2.shape)\n",
    "        \n",
    "#         trainMatrix = np.zeros((freq.shape[0], 1000))\n",
    "#         for i in range(res.shape[0]):\n",
    "#             trainMatrix[i][:res.shape[1]]= res[i]\n",
    "\n",
    "#         endPT = time.time()\n",
    "#         print(endPT - startPT, data['especie_id'][i])\n",
    "# #         disk = morphology.disk(1)\n",
    "# #         plotModSpecSimple(t,freq,morphology.erosion((trainMatrix), disk))\n",
    "# #         disk = morphology.disk(1.4)\n",
    "        \n",
    "# #         plotModSpecSimple(t,freq,morphology.dilation((trainMatrix), disk))\n",
    "#         plotModSpecSimple(t,freq,trainMatrix)\n",
    "    \n",
    "\n",
    "##############################################\n",
    "#                                            #\n",
    "#              Data processing               #\n",
    "#                                            #\n",
    "##############################################\n",
    "\n",
    "\n",
    "\n",
    "def Filter(array, Min, Max):\n",
    "    '''Given a Min or Max parameter, find the index in the array that corresponds to the given Min or Max value\n",
    "    #Example  [1,4,7,11], Min:5, Max 8, Output = (1,3)\n",
    "    Input: \n",
    "        array: nparray containing information\n",
    "        min  : float containing the minimum value to be found in array\n",
    "        max  : float containing the maximum value to be found in array\n",
    "    '''\n",
    "    try:\n",
    "        Min = (np.abs(array-Min)).argmin()\n",
    "        Max = (np.abs(array-Max)).argmin()+1\n",
    "    \n",
    "        return Min, Max\n",
    "    \n",
    "    except:\n",
    "        print(\"error: array input is not an nparray\")\n",
    "        \n",
    "        \n",
    "# def getMarca(path = \"\", file, minf, maxf, startT, endT, timeSize = 1000, freqSize = 100):\n",
    "#     ''' \n",
    "#     '''\n",
    "#     path = \"Audio/Experimental/dataset/trainMarcas/\"\n",
    "#     t,freq,spec = specInfo(path + file)\n",
    "    \n",
    "#     #Find index of the time in the array \n",
    "#     startI = (np.abs(t - startT)).argmin()\n",
    "#     endI = (np.abs(t - endT)).argmin()\n",
    "    \n",
    "#     #Find index of the frequencies in the array\n",
    "#     mifreqI = (np.abs(freq - minf)).argmin()\n",
    "#     mafreqI = (np.abs(freq - maxf)).argmin()\n",
    "    \n",
    "#     t2 = t[startI:endI]\n",
    "#     freq2 = freq[mifreqI:mafreqI]\n",
    "    \n",
    "#     mags = [spec[mifreqI][startI:endI]]\n",
    "    \n",
    "#     for i in range(mifreqI+1, mafreqI):\n",
    "#         mags = mags + [spec[i][startI:endI]]  \n",
    "#     spec2 = np.array(mags)\n",
    "#     return t[0:timeSize], freq[0:freqSize], spec, t2, freq2, spec2\n",
    "\n",
    "\n",
    "def getMarcaFromSpectrogram(t, freq, spec, minf, maxf, startT, endT, timeIndex):\n",
    "    \n",
    "    #Find index of the time in the array \n",
    "    startI, endI= Filter(t, startT, endT)\n",
    "    \n",
    "    #ind index of the frequencies in the array    \n",
    "    minfreqI, maxfreqI = Filter(freq, minf, maxf)\n",
    "    \n",
    "    \n",
    "    tSelect = t[startI:endI]\n",
    "    freqSelect = freq[minfreqI:maxfreqI]\n",
    "    if endI - startI > timeIndex:\n",
    "        endI = startI+timeIndex\n",
    "        \n",
    "    mags = [spec[minfreqI][startI:endI]]\n",
    "        \n",
    "    for i in range(minfreqI+1, maxfreqI):\n",
    "        mags = mags + [spec[i][startI:endI]]  \n",
    "    specSelect = np.array(mags)\n",
    "    \n",
    "    return tSelect, freqSelect, specSelect, minfreqI, maxfreqI\n",
    "\n",
    "# def transformDataset(dataset, startFreqIndex, endFreqIndex):\n",
    "#     load = []\n",
    "#     labels = []\n",
    "#     failed = []\n",
    "#     clusters = 4\n",
    "#     kCluster = KMeans(clusters)\n",
    "    \n",
    "#     path = \"../../dataset2/audios/\"\n",
    "            \n",
    "#     groupByFile = dataset.groupby(\"archivo\")\n",
    "\n",
    "#     ctr = 0\n",
    "#     for eachFile in groupByFile:\n",
    "#         if ctr % 100 == 0 :\n",
    "#             print(ctr,\"of\",  len(groupByFile))\n",
    "#         ctr+=1\n",
    "#         file = eachFile[0]\n",
    "#         t,freq, spec = specInfo(path + file)\n",
    "#         for idx, data in eachFile[1].iterrows():\n",
    "#             try:\n",
    "\n",
    "#                 minf = data['freqme']\n",
    "#                 maxf = data['freqma']\n",
    "#                 startT = data['tiempoi']\n",
    "#                 endT = data['tiempof']\n",
    "\n",
    "#                 freq2, spec2 = getMarcaFromSpectrogram(t,freq,spec, minf,maxf, startT,endT)\n",
    "                \n",
    "# #                 scalar = StandardScaler().fit(spec2)\n",
    "# #                 spec3 = scalar.transform(spec2)\n",
    "\n",
    "#                 #Cluster noise\n",
    "\n",
    "#                 flatSpectrum = spec2.flatten().reshape(-1,1)\n",
    "#                 res = kCluster.fit_predict(flatSpectrum)\n",
    "#                 res = orderClusters(res, flatSpectrum, clusters)\n",
    "\n",
    "\n",
    "#                 #Set all values other than 0 to 1 \n",
    "#                 correctingIdx = np.where(res != 0)[0]\n",
    "#                 res = np.zeros(flatSpectrum.shape)\n",
    "#                 res[correctingIdx] = 1\n",
    "#                 res = res.reshape(spec2.shape)\n",
    "\n",
    "#                 trainMatrix = np.zeros((endFreqIndex-startFreqIndex, 1000))\n",
    "#                 for i in range(res.shape[0]):\n",
    "#                     trainMatrix[i][:res.shape[1]]= res[i]\n",
    "#                 load.append(trainMatrix.flatten())\n",
    "#                 labels.append(data['especie_id'])\n",
    "                \n",
    "#             except Exception as e:\n",
    "#                 failed.append(idx)\n",
    "#                 print(\"failed: \", idx)\n",
    "#                 print(e, \"\\n\\n\")\n",
    "#     labels = np.array(labels)\n",
    "#     load = np.array(load)\n",
    "    \n",
    "#     #/order by species id\n",
    "#     idx = np.argsort(labels)\n",
    "#     load[:] = load[idx]\n",
    "#     labels[:] = labels[idx]\n",
    "\n",
    "#     return load, labels\n",
    "\n",
    "# def transformDataset2(dataset, timeIndex, freqIndex, especieCounter):\n",
    "#     DBScan2 = DBSCAN(2,8)\n",
    "\n",
    "#     load = []\n",
    "#     labels = []\n",
    "#     failed = []\n",
    "#     clusters = 6\n",
    "#     kCluster = KMeans(clusters)\n",
    "#     trainMatrix = np.zeros((freqIndex, timeIndex), dtype = \"int8\")\n",
    "#     path = \"../../dataset2/audios/\"\n",
    "    \n",
    "#     groupByFile = dataset.groupby(\"archivo\")\n",
    "\n",
    "#     fctr = 0\n",
    "#     for eachFile in groupByFile:\n",
    "#         if fctr % 100 == 0 :\n",
    "#             print(fctr,\"of\",  len(groupByFile))\n",
    "#         fctr+=1\n",
    "#         file = eachFile[0]\n",
    "#         t,freq, spec = specInfo(path + file)\n",
    "#         for idx, data in eachFile[1].iterrows():\n",
    "#             try:\n",
    "\n",
    "#                 minf = data['freqme']\n",
    "#                 maxf = data['freqma']\n",
    "#                 startT = data['tiempoi']\n",
    "#                 endT = data['tiempof']\n",
    "\n",
    "#                 t2, freq2, spec2, minFreq = getMarcaFromSpectrogram(t,freq,spec, minf,maxf, startT,endT, timeIndex=timeIndex)\n",
    "                \n",
    "\n",
    "\n",
    "#                 #Cluster noise\n",
    "\n",
    "#                 flatSpectrum = spec2.flatten().reshape(-1,1)\n",
    "#                 res = kCluster.fit_predict(flatSpectrum)\n",
    "#                 res = orderClusters(res, flatSpectrum, clusters)\n",
    "\n",
    "\n",
    "#                 #Set all values other than 0 to 1 \n",
    "#                 correctingIdx = np.where(res != 0)[0]\n",
    "#                 res = np.zeros(flatSpectrum.shape)\n",
    "#                 res[correctingIdx] = 1\n",
    "# #                 res = res.reshape(spec2.shape)\n",
    "\n",
    "# #                 finalMatrix = np.zeros((endFreqIndex-startFreqIndex, 1000))\n",
    "# #                 for i in range(res.shape[0]):\n",
    "# #                     finalMatrix[i][:res.shape[1]]= res[i]\n",
    "                    \n",
    "                    \n",
    "#                 coordArray = []\n",
    "#                 for i in range(len(res)):\n",
    "#                     if res[i]==1:\n",
    "\n",
    "#                         lennum = spec2.shape[1]\n",
    "#                 #         print(i, res[i], i%spec2.shape[1], int(i/spec2.shape[1]))\n",
    "#                         col = i%lennum\n",
    "#                         row = int(i/lennum)\n",
    "#                         coordArray.append([row,col])\n",
    "#                 coordArray = np.array(coordArray)\n",
    "\n",
    "#                 speeches= DBScan2.fit_predict(coordArray)\n",
    "#         #         print(\"Processing time: \", time.time()- begin)\n",
    "#                 minIndex = np.min(speeches)\n",
    "#                 maxIndex = np.max(speeches)\n",
    "\n",
    "#                 if(minIndex == -1):\n",
    "#                     minIdex = 0 ;\n",
    "#                 for speechValue in range(0, maxIndex+1):\n",
    "#                     trainMatrix[:,:] = 0\n",
    "\n",
    "#                     speechIndexes = np.where(speeches == speechValue)[0]\n",
    "\n",
    "#                     minVal = np.min(coordArray[speechIndexes], axis = 0)[1]\n",
    "#                     for ctr, i in enumerate(coordArray[speechIndexes]):\n",
    "#                         if i[1] - minVal < timeIndex:\n",
    "#                             trainMatrix[int(i[0])+ minFreq][ int(i[1]-minVal)] =1\n",
    "                    \n",
    "                    \n",
    "#                     especieCounter[data['especie_id']]+=1\n",
    "#                     load.append(trainMatrix.flatten())\n",
    "#                     labels.append(data['especie_id'])\n",
    "                \n",
    "#             except Exception as e:\n",
    "#                 failed.append(idx)\n",
    "#                 print(\"failed: \", idx)\n",
    "#                 print(e, \"\\n\\n\")\n",
    "#     labels = np.array(labels)\n",
    "#     load = np.array(load)\n",
    "    \n",
    "#     #/order by species id\n",
    "#     idx = np.argsort(labels)\n",
    "#     load[:] = load[idx]\n",
    "#     labels[:] = labels[idx]\n",
    "\n",
    "#     return load, labels, especieCounter\n",
    "\n",
    "def newSlicing(array, lowerIdx, upperIdx, step):\n",
    "    resultingArray = np.array(array[lowerIdx:upperIdx])\n",
    "    for i in range(upperIdx,len(array)+1,step):\n",
    "        lowerIdx += step\n",
    "        upperIdx+= step\n",
    "        resultingArray = np.concatenate([resultingArray, array[lowerIdx:upperIdx]])\n",
    "\n",
    "    return resultingArray\n",
    "\n",
    "def orderClusters(flatCluster, flatSpectrogram, num, getGroups = False ):\n",
    "    \"\"\"Function to order the clusters according to the magnitude values\n",
    "       Returns a vector containing the indeces of each cluster, where the \n",
    "       indeces identify which cluster is stronger in terms of magnitude(relative to spectrum)\n",
    "    \n",
    "       Input:\n",
    "           flatCluster: Array containing flattened spectrogram's shape with cluster entries\n",
    "           flatSpectrogram\n",
    "    \"\"\"\n",
    "    \n",
    "    minS = [None]*num\n",
    "    maxS = [None]*num\n",
    "    smallVal = np.array([])\n",
    "    \n",
    "    #\n",
    "    for i in range(num):\n",
    "        #identify each cluster\n",
    "        idx = np.where(flatCluster ==i )\n",
    "        \n",
    "        #Find min and max values of each cluster\n",
    "        minS[i] = min(flatSpectrogram[idx])\n",
    "        maxS[i] = max(flatSpectrogram[idx])\n",
    "        \n",
    "        #Store the min value, so we can order the clusters according to the corresponding value\n",
    "        smallVal = np.append(smallVal, minS[i])\n",
    "        \n",
    "    #Create buffer that will contain the cluster identifier information\n",
    "    returnCluster = np.zeros(flatCluster.shape)\n",
    "    \n",
    "    #Fill the buffer containing the cluster identifier in ordered shape (min to max)\n",
    "    for ctr, i in enumerate(np.argsort(smallVal)):\n",
    "        idx = np.where(flatCluster == i)\n",
    "        returnCluster[idx] = ctr\n",
    "        \n",
    "\n",
    "    del minS, smallVal, idx\n",
    "    if getGroups:\n",
    "        return returnCluster,maxS\n",
    "    return returnCluster\n",
    "\n",
    "\n",
    "#MISC\n",
    "\n",
    "class Error(Exception):\n",
    "    \"\"\"Base class for exceptions in this module.\"\"\"\n",
    "    \n",
    "    pass"
   ]
  },
  {
   "cell_type": "code",
   "execution_count": 5,
   "metadata": {},
   "outputs": [
    {
     "name": "stdout",
     "output_type": "stream",
     "text": [
      "Spectrogram calculation time: 0.33091306686401367 seconds\n"
     ]
    },
    {
     "data": {
      "image/png": "[encoded data removed]",
      "text/plain": [
       "<matplotlib.figure.Figure at 0x7fcd08cad4a8>"
      ]
     },
     "metadata": {},
     "output_type": "display_data"
    }
   ],
   "source": [
    "#audio file path\n",
    "path = \"03-10-3022_00_38.wav\"\n",
    "\n",
    "#Get spectrogram data\n",
    "calculateSpecT = time.time()\n",
    "t,freq,spec = specInfo(path)\n",
    "print(\"Spectrogram calculation time:\", time.time()- calculateSpecT, \"seconds\")#outputs spectrogram calculation time\n",
    "#Plot spectrogram data\n",
    "plotModSpecSimple(t,freq,spec)"
   ]
  },
  {
   "cell_type": "code",
   "execution_count": 6,
   "metadata": {},
   "outputs": [
    {
     "data": {
      "text/html": [
       "<div>\n",
       "<table border=\"1\" class=\"dataframe\">\n",
       "  <thead>\n",
       "    <tr style=\"text-align: right;\">\n",
       "      <th></th>\n",
       "      <th>marca_id</th>\n",
       "      <th>grabacion_id</th>\n",
       "      <th>archivo</th>\n",
       "      <th>punto_id</th>\n",
       "      <th>especie_id</th>\n",
       "      <th>tiempoi</th>\n",
       "      <th>tiempof</th>\n",
       "      <th>freqme</th>\n",
       "      <th>freqma</th>\n",
       "      <th>maxpot</th>\n",
       "    </tr>\n",
       "  </thead>\n",
       "  <tbody>\n",
       "    <tr>\n",
       "      <th>0</th>\n",
       "      <td>52.0</td>\n",
       "      <td>14.0</td>\n",
       "      <td>03-10-3022_30_38.wav</td>\n",
       "      <td>4.0</td>\n",
       "      <td>1.0</td>\n",
       "      <td>10.024</td>\n",
       "      <td>10.340</td>\n",
       "      <td>1174.3</td>\n",
       "      <td>2495.4</td>\n",
       "      <td>120.3</td>\n",
       "    </tr>\n",
       "    <tr>\n",
       "      <th>1</th>\n",
       "      <td>53.0</td>\n",
       "      <td>14.0</td>\n",
       "      <td>03-10-3022_30_38.wav</td>\n",
       "      <td>4.0</td>\n",
       "      <td>1.0</td>\n",
       "      <td>25.152</td>\n",
       "      <td>25.550</td>\n",
       "      <td>1229.4</td>\n",
       "      <td>2623.9</td>\n",
       "      <td>127.1</td>\n",
       "    </tr>\n",
       "    <tr>\n",
       "      <th>2</th>\n",
       "      <td>54.0</td>\n",
       "      <td>14.0</td>\n",
       "      <td>03-10-3022_30_38.wav</td>\n",
       "      <td>4.0</td>\n",
       "      <td>1.0</td>\n",
       "      <td>46.038</td>\n",
       "      <td>46.447</td>\n",
       "      <td>1211.0</td>\n",
       "      <td>2844.0</td>\n",
       "      <td>123.5</td>\n",
       "    </tr>\n",
       "    <tr>\n",
       "      <th>3</th>\n",
       "      <td>6076.0</td>\n",
       "      <td>14.0</td>\n",
       "      <td>03-10-3022_30_38.wav</td>\n",
       "      <td>4.0</td>\n",
       "      <td>7.0</td>\n",
       "      <td>42.436</td>\n",
       "      <td>42.864</td>\n",
       "      <td>3694.9</td>\n",
       "      <td>4117.6</td>\n",
       "      <td>87.4</td>\n",
       "    </tr>\n",
       "    <tr>\n",
       "      <th>4</th>\n",
       "      <td>31978.0</td>\n",
       "      <td>25.0</td>\n",
       "      <td>03-10-3104_00_35.wav</td>\n",
       "      <td>4.0</td>\n",
       "      <td>1.0</td>\n",
       "      <td>2.809</td>\n",
       "      <td>3.192</td>\n",
       "      <td>1266.1</td>\n",
       "      <td>2770.6</td>\n",
       "      <td>110.1</td>\n",
       "    </tr>\n",
       "  </tbody>\n",
       "</table>\n",
       "</div>"
      ],
      "text/plain": [
       "   marca_id  grabacion_id               archivo  punto_id  especie_id  \\\n",
       "0      52.0          14.0  03-10-3022_30_38.wav       4.0         1.0   \n",
       "1      53.0          14.0  03-10-3022_30_38.wav       4.0         1.0   \n",
       "2      54.0          14.0  03-10-3022_30_38.wav       4.0         1.0   \n",
       "3    6076.0          14.0  03-10-3022_30_38.wav       4.0         7.0   \n",
       "4   31978.0          25.0  03-10-3104_00_35.wav       4.0         1.0   \n",
       "\n",
       "   tiempoi  tiempof  freqme  freqma  maxpot  \n",
       "0   10.024   10.340  1174.3  2495.4   120.3  \n",
       "1   25.152   25.550  1229.4  2623.9   127.1  \n",
       "2   46.038   46.447  1211.0  2844.0   123.5  \n",
       "3   42.436   42.864  3694.9  4117.6    87.4  \n",
       "4    2.809    3.192  1266.1  2770.6   110.1  "
      ]
     },
     "execution_count": 6,
     "metadata": {},
     "output_type": "execute_result"
    }
   ],
   "source": [
    "dataDescription = pd.read_csv(\"marcasArticulo.csv\") \n",
    "dataDescription.head()"
   ]
  },
  {
   "cell_type": "code",
   "execution_count": 7,
   "metadata": {},
   "outputs": [],
   "source": [
    "MarkIndex = 0\n",
    "file = dataDescription['archivo'][MarkIndex]\n",
    "minimumFrequency = dataDescription['freqme'][MarkIndex]\n",
    "maximumFreqeuency = dataDescription['freqma'][MarkIndex]\n",
    "startTime = dataDescription['tiempoi'][MarkIndex]\n",
    "endTime = dataDescription['tiempof'][MarkIndex]\n",
    "\n",
    "#Set a default value for Duration of mark \n",
    "durationTime = 460"
   ]
  },
  {
   "cell_type": "code",
   "execution_count": 8,
   "metadata": {},
   "outputs": [
    {
     "data": {
      "image/png": "[encoded data removed]",
      "text/plain": [
       "<matplotlib.figure.Figure at 0x7fcccdef7f60>"
      ]
     },
     "metadata": {},
     "output_type": "display_data"
    }
   ],
   "source": [
    "#Get spectrogram information of mark\n",
    "tSelect, freqSelect, specSelect, minFreq, maxFreq = getMarcaFromSpectrogram(t,freq,spec, minimumFrequency,maximumFreqeuency, startTime,endTime, durationTime)\n",
    "\n",
    "#Plot the mark\n",
    "plotModSpecSimple(tSelect, freqSelect, specSelect, ylab = \"Frequency (Hz)\", xlab = \"Time (s)\")"
   ]
  },
  {
   "cell_type": "code",
   "execution_count": 9,
   "metadata": {},
   "outputs": [],
   "source": [
    "#Define clusters and kmeans cluster instace\n",
    "clusters = 6\n",
    "kCluster = KMeans(clusters)\n",
    "\n",
    "#First we must flatten the data to cluster it (1 dimensional vector)\n",
    "specSelectFlatten = specSelect.flatten().reshape(-1,1)"
   ]
  },
  {
   "cell_type": "code",
   "execution_count": 10,
   "metadata": {},
   "outputs": [
    {
     "name": "stdout",
     "output_type": "stream",
     "text": [
      "Y axis in this plot is a density proportion of the count for each bin in magnitude values\n"
     ]
    },
    {
     "data": {
      "image/png": "[encoded data removed]",
      "text/plain": [
       "<matplotlib.figure.Figure at 0x7fccc8efc080>"
      ]
     },
     "metadata": {},
     "output_type": "display_data"
    }
   ],
   "source": [
    "#Plot a histogram of magnitude values\n",
    "ax = sns.distplot(specSelectFlatten, hist = True, norm_hist=False, axlabel= \"Magnitude Value\")\n",
    "ax.set_ylabel(\"counting density\")\n",
    "print(\"Y axis in this plot is a density proportion of the count for each bin in magnitude values\")"
   ]
  },
  {
   "cell_type": "code",
   "execution_count": 11,
   "metadata": {},
   "outputs": [],
   "source": [
    "\n",
    "#Cluster the magnitude values\n",
    "#The returning vector will contain the cluster group associated to each entry \n",
    "specSelectFlattenCluster = kCluster.fit_predict(specSelectFlatten)"
   ]
  },
  {
   "cell_type": "code",
   "execution_count": 12,
   "metadata": {},
   "outputs": [],
   "source": [
    "#Make sure we order labels based on cluster's magnitude\n",
    "specSelectFlattenCluster, clusterMax = orderClusters(specSelectFlattenCluster, specSelectFlatten, clusters,  True)"
   ]
  },
  {
   "cell_type": "code",
   "execution_count": 13,
   "metadata": {},
   "outputs": [
    {
     "data": {
      "text/plain": [
       "<matplotlib.text.Text at 0x7fccc8e2e630>"
      ]
     },
     "execution_count": 13,
     "metadata": {},
     "output_type": "execute_result"
    },
    {
     "data": {
      "image/png": "[encoded data removed]",
      "text/plain": [
       "<matplotlib.figure.Figure at 0x7fcccb3fc400>"
      ]
     },
     "metadata": {},
     "output_type": "display_data"
    }
   ],
   "source": [
    "#Representation of clusters, between each marker is a cluster group\n",
    "plt.scatter(np.concatenate(clusterMax), [[0]*clusters], marker = \"1\")\n",
    "plt.xlabel(\"Magnitude values\")\n"
   ]
  },
  {
   "cell_type": "code",
   "execution_count": 14,
   "metadata": {},
   "outputs": [
    {
     "data": {
      "image/png": "[encoded data removed]",
      "text/plain": [
       "<matplotlib.figure.Figure at 0x7fcd08cad160>"
      ]
     },
     "metadata": {},
     "output_type": "display_data"
    }
   ],
   "source": [
    "#Display how mark looks like after clutering magnitude values\n",
    "plotModSpecSimple(tSelect,freqSelect , specSelectFlattenCluster.reshape(specSelect.shape))"
   ]
  },
  {
   "cell_type": "code",
   "execution_count": 15,
   "metadata": {},
   "outputs": [
    {
     "data": {
      "image/png": "[encoded data removed]",
      "text/plain": [
       "<matplotlib.figure.Figure at 0x7fccc8d87160>"
      ]
     },
     "metadata": {},
     "output_type": "display_data"
    }
   ],
   "source": [
    "#Prepare data\n",
    "#Set all values other than 0 to 1 \n",
    "correctingIdx = np.where(specSelectFlattenCluster != 0)[0]\n",
    "copySelectFlattenCluster = specSelectFlattenCluster\n",
    "specSelectFlattenCluster = np.zeros(specSelectFlatten.shape)\n",
    "\n",
    "#Set all values not equal to 0 to 1. \n",
    "specSelectFlattenCluster[correctingIdx] = 1\n",
    "plotModSpecSimple(tSelect,freqSelect , specSelectFlattenCluster.reshape(specSelect.shape),  ylab = \"Frequency (Hz)\", xlab = \"Time (s)\")"
   ]
  },
  {
   "cell_type": "code",
   "execution_count": 16,
   "metadata": {},
   "outputs": [],
   "source": [
    "#Get coordinates of relevant points (Coordinates of those values containing 1)\n",
    "yIndeces, xIndeces = np.where(specSelectFlattenCluster.reshape(specSelect.shape) ==  1)\n",
    "coordinatesArray = np.array([yIndeces, xIndeces]).T\n"
   ]
  },
  {
   "cell_type": "code",
   "execution_count": 17,
   "metadata": {},
   "outputs": [],
   "source": [
    "#Define DBScan instace\n",
    "DBScan = DBSCAN(2,8)"
   ]
  },
  {
   "cell_type": "code",
   "execution_count": 18,
   "metadata": {},
   "outputs": [
    {
     "data": {
      "image/png": "[encoded data removed]",
      "text/plain": [
       "<matplotlib.figure.Figure at 0x7fcc6b8bcb00>"
      ]
     },
     "metadata": {},
     "output_type": "display_data"
    }
   ],
   "source": [
    "detectedGroups = DBScan.fit_predict(coordinatesArray)\n",
    "\n",
    "#Get min and max groups (if min = -1, some points where not clustered) max will contain the number of cluster groups found\n",
    "minIndex = np.min(detectedGroups)\n",
    "\n",
    "\n",
    "#In order to have a range from 0 to 1, add abs value of minIndex ( if min index = 0 , it will remain the same\n",
    "#if minIndex == -1, it will relocate range from 0 to maxIndex+1)\n",
    "copySelectFlattenCluster[correctingIdx] = detectedGroups + abs(minIndex)\n",
    "detectedGroups += abs(minIndex)\n",
    "plotModSpecSimple(tSelect,freqSelect,copySelectFlattenCluster.reshape(specSelect.shape), xlab = \"Time (s)\", ylab = \"Frequency (Hz)\")\n",
    "\n",
    "displayGroups = np.zeros(specSelect.shape)\n",
    "\n",
    "for ctr, i in enumerate(coordinatesArray):\n",
    "    displayGroups[int(i[0])][ int(i[1])] = detectedGroups[ctr]\n",
    "maxIndex = np.max(detectedGroups)"
   ]
  },
  {
   "cell_type": "code",
   "execution_count": 19,
   "metadata": {},
   "outputs": [
    {
     "data": {
      "image/png": "[encoded data removed]",
      "text/plain": [
       "<matplotlib.figure.Figure at 0x7fccc8c6cfd0>"
      ]
     },
     "metadata": {},
     "output_type": "display_data"
    }
   ],
   "source": [
    "rect = []\n",
    "for speechValue in range(1, maxIndex+1):\n",
    "    if len(np.where(detectedGroups== speechValue)[0]) != 0 :\n",
    "        \n",
    "        #Get min and max time and frequency values of the identified cluster groups\n",
    "        minf = np.min(np.where(displayGroups == speechValue)[0])\n",
    "        maxf = np.max(np.where(displayGroups == speechValue)[0])\n",
    "        startT = np.min(np.where(displayGroups == speechValue)[1])\n",
    "        endT = np.max(np.where(displayGroups == speechValue)[1])\n",
    "\n",
    "        #Create bounding box and add to boxes to be displayed\n",
    "        rect.append(patches.Rectangle((tSelect[startT],freqSelect[minf]),tSelect[endT]-tSelect[startT],freqSelect[maxf]-freqSelect[minf],linewidth=1,edgecolor='g',facecolor='none'))\n",
    "\n",
    "#Display marc with bounding boxes around the cluster groups found\n",
    "plotModSpecSimple(tSelect,freqSelect,displayGroups, xlab = \"Time (s)\", ylab = \"Frequency (Hz)\", title = \"Detected Clusters\", patch = rect)\n"
   ]
  },
  {
   "cell_type": "code",
   "execution_count": 20,
   "metadata": {},
   "outputs": [
    {
     "data": {
      "image/png": "[encoded data removed]",
      "text/plain": [
       "<matplotlib.figure.Figure at 0x7fccc8a2cd68>"
      ]
     },
     "metadata": {},
     "output_type": "display_data"
    },
    {
     "data": {
      "image/png": "[encoded data removed]",
      "text/plain": [
       "<matplotlib.figure.Figure at 0x7fccc8bed7f0>"
      ]
     },
     "metadata": {},
     "output_type": "display_data"
    },
    {
     "data": {
      "image/png": "[encoded data removed]",
      "text/plain": [
       "<matplotlib.figure.Figure at 0x7fccc8da26d8>"
      ]
     },
     "metadata": {},
     "output_type": "display_data"
    },
    {
     "data": {
      "image/png": "[encoded data removed]",
      "text/plain": [
       "<matplotlib.figure.Figure at 0x7fccc8f36a90>"
      ]
     },
     "metadata": {},
     "output_type": "display_data"
    },
    {
     "data": {
      "image/png": "[encoded data removed]",
      "text/plain": [
       "<matplotlib.figure.Figure at 0x7fcccb536710>"
      ]
     },
     "metadata": {},
     "output_type": "display_data"
    },
    {
     "data": {
      "image/png": "[encoded data removed]",
      "text/plain": [
       "<matplotlib.figure.Figure at 0x7fccad7d5160>"
      ]
     },
     "metadata": {},
     "output_type": "display_data"
    },
    {
     "data": {
      "image/png": "[encoded data removed]",
      "text/plain": [
       "<matplotlib.figure.Figure at 0x7fccad691470>"
      ]
     },
     "metadata": {},
     "output_type": "display_data"
    }
   ],
   "source": [
    "#Define training model parameters\n",
    "#These two parameters are used to define how many time steps and frequencies will the training model have\n",
    "timeInterval = 450\n",
    "frequencyInterval = 86\n",
    "\n",
    "\n",
    "for speechValue in range(1, maxIndex+1):\n",
    "    speechIndexes = np.where(detectedGroups == speechValue)[0]\n",
    "\n",
    "    minVal = np.min(coordinatesArray[speechIndexes], axis = 0)[1]\n",
    "\n",
    "    trainMatrix = np.zeros((frequencyInterval ,timeInterval))\n",
    "\n",
    "    for ctr, i in enumerate(coordinatesArray[speechIndexes]):\n",
    "        if i[1] - minVal < timeInterval:\n",
    "            trainMatrix[int(i[0])+minFreq][ int(i[1])-minVal] =1\n",
    "    plotModSpecSimple(t[0:timeInterval], freq[0:frequencyInterval],trainMatrix, xlab = \"Time (s)\", ylab = \"Frequency (Hz)\")    "
   ]
  },
  {
   "cell_type": "code",
   "execution_count": 21,
   "metadata": {},
   "outputs": [
    {
     "data": {
      "text/plain": [
       "(86, 450)"
      ]
     },
     "execution_count": 21,
     "metadata": {},
     "output_type": "execute_result"
    }
   ],
   "source": [
    "trainMatrix.shape"
   ]
  },
  {
   "cell_type": "code",
   "execution_count": 22,
   "metadata": {},
   "outputs": [],
   "source": [
    "def transformDataset2( dataset, timeIndex, freqIndex, especieCounter,  frequencyInterval =86, dbscanE = 2, dbscanMin = 8, kmeanCluster = 6, datasetPath = \"../dataset2/audios/\"):\n",
    "    DBScan = DBSCAN(dbscanE,dbscanMin)\n",
    "    markLoad = []\n",
    "    markLabel = []\n",
    "    markFailed = []\n",
    "    kCluster = KMeans(kmeanCluster)\n",
    "    trainMatrix = np.zeros((freqIndex, timeIndex), dtype = \"int8\")\n",
    "    \n",
    "        \n",
    "    groupByFile = dataset.groupby(\"archivo\")\n",
    "\n",
    "    fctr = 0\n",
    "    for eachFile in groupByFile:\n",
    "\n",
    "        #Each file contains all the metadata ifilenformation for each file\n",
    "            \n",
    "        #Get file name from each file\n",
    "        fileName = eachFile[0]\n",
    "        \n",
    "        t,freq, spec = specInfo(datasetPath + fileName)\n",
    "\n",
    "        for idx, data in eachFile[1].iterrows():\n",
    "            try:\n",
    "\n",
    "                minimumFrequency = data['freqme']\n",
    "                maximumFreqeuency = data['freqma']\n",
    "                startTime = data['tiempoi']\n",
    "                endTime = data['tiempof']\n",
    "\n",
    "                tSelect, freqSelect, specSelect, minFreq, maxFreq= getMarcaFromSpectrogram(t,freq,spec, minimumFrequency,maximumFreqeuency, startTime,endTime, timeIndex)\n",
    "    #                 return 0 \n",
    "\n",
    "                #Cluster noise\n",
    "                specSelectFlatten = specSelect.flatten().reshape(-1,1)\n",
    "\n",
    "                specSelectFlattenCluster = kCluster.fit_predict(specSelectFlatten)\n",
    "                specSelectFlattenCluster, clusterMax = orderClusters(specSelectFlattenCluster, specSelectFlatten, kmeanCluster,  True)\n",
    "\n",
    "\n",
    "                correctingIdx = np.where(specSelectFlattenCluster != 0)[0]\n",
    "                copySelectFlattenCluster = specSelectFlattenCluster\n",
    "                specSelectFlattenCluster = np.zeros(specSelectFlatten.shape)\n",
    "\n",
    "                #Set all values not equal to 0 to 1. \n",
    "                specSelectFlattenCluster[correctingIdx] = 1\n",
    "                #plotModSpecSimple(tSelect,freqSelect , specSelectFlattenCluster.reshape(specSelect.shape),  ylab = \"Frequency (Hz)\", xlab = \"Time (s)\")\n",
    "\n",
    "                #Get coordinates of relevant points (Coordinates of those values containing 1)\n",
    "                yIndeces, xIndeces = np.where(specSelectFlattenCluster.reshape(specSelect.shape) ==  1)\n",
    "                coordinatesArray = np.array([yIndeces, xIndeces]).T\n",
    "\n",
    "                detectedGroups = DBScan.fit_predict(coordinatesArray)\n",
    "\n",
    "                #Get min and max groups (if min = -1, some points where not clustered) max will contain the number of cluster groups found\n",
    "                minIndex = np.min(detectedGroups)\n",
    "                detectedGroups += abs(minIndex)\n",
    "                maxIndex = np.max(detectedGroups)\n",
    "\n",
    "                trainMatrix = np.zeros((frequencyInterval ,timeIndex), dtype = \"int8\")\n",
    "\n",
    "                for speechValue in range(1, maxIndex+1):\n",
    "                    speechIndexes = np.where(detectedGroups == speechValue)[0]\n",
    "\n",
    "                    minVal = np.min(coordinatesArray[speechIndexes], axis = 0)[1]\n",
    "\n",
    "                    trainMatrix[:,:] = 0\n",
    "\n",
    "                    for ctr, i in enumerate(coordinatesArray[speechIndexes]):\n",
    "                        if i[1] - minVal < timeIndex:\n",
    "                            trainMatrix[int(i[0])+minFreq][ int(i[1])-minVal] =1\n",
    "                #plotModSpecSimple(t[0:timeInterval], freq[0:frequencyInterval],trainMatrix, xlab = \"Time (s)\", ylab = \"Frequency (Hz)\")    \n",
    "\n",
    "                    especieCounter[data['especie_id']]+=1\n",
    "                    markLoad.append(trainMatrix)\n",
    "                    markLabel.append(data['especie_id'])\n",
    "            except Exception as e:\n",
    "                markFailed.append(idx)\n",
    "                print(\"Marked failed: \", idx)\n",
    "                print(e, \"\\n\\n\")\n",
    "    markLabel = np.array(markLabel)\n",
    "    markLoad = np.array(markLoad)\n",
    "    \n",
    "    #/order by species id\n",
    "    idx = np.argsort(markLabel)\n",
    "    markLoad[:] = markLoad[idx]\n",
    "    markLabel[:] = markLabel[idx]\n",
    "\n",
    "    return markLoad, markLabel, especieCounter"
   ]
  },
  {
   "cell_type": "code",
   "execution_count": 23,
   "metadata": {},
   "outputs": [],
   "source": [
    "maxFreqForInterval = 8000\n",
    "\n",
    "dataDescription = pd.read_csv(\"marcasArticulo.csv\") \n",
    "speciesID = dataDescription['especie_id'].unique()[:-1]#gives array of all species in csv\n",
    "\n",
    "    #Since we are only using the 8000 frequencies and below, remove species outside the bounds ##why are we only using freqs < 8000\n",
    "dataDescription = dataDescription.groupby('especie_id').filter(lambda x: max(x['freqma']) < 8000)\n",
    "\n",
    "\n",
    "indexes= dataDescription.index[dataDescription['especie_id'] == 12]\n",
    "dataDescription = dataDescription.drop(indexes).reset_index()\n",
    "indexes= dataDescription.index[dataDescription['especie_id'] == 10]\n",
    "dataDescription = dataDescription.drop(indexes).reset_index()\n",
    "np.sort(dataDescription['especie_id'].unique())\n",
    "\n",
    "maxtimeWithSTD = np.max(dataDescription.groupby('especie_id').apply(lambda x: (np.mean(x['tiempof']- x[\"tiempoi\"]) +np.std(x['tiempof']- x[\"tiempoi\"]))))\n",
    "t,freq,spec = specInfo(\"../dataset2/audios/03-10-3018_00_35.wav\")\n",
    "# getTimeInterval = Filter(t, 0,maxtimeWithSTD)[1]\n",
    "frequencyLimit = ((np.abs(freq - maxFreqForInterval)).argmin()+1)\n",
    "timeLimit = ((np.abs(t - maxtimeWithSTD)).argmin()+1)\n"
   ]
  },
  {
   "cell_type": "code",
   "execution_count": 24,
   "metadata": {},
   "outputs": [
    {
     "name": "stdout",
     "output_type": "stream",
     "text": [
      "{1.0: array([897]), 2.0: array([227]), 4.0: array([207]), 6.0: array([203]), 7.0: array([205]), 8.0: array([204]), 130.0: array([201])}\n",
      "1425\n",
      "128\n",
      "1425\n",
      "128\n",
      "especie_id\n",
      "1.0      897\n",
      "2.0      227\n",
      "4.0      207\n",
      "6.0      203\n",
      "7.0      205\n",
      "8.0      204\n",
      "130.0    201\n",
      "dtype: int64\n",
      "especie_id\n",
      "1.0      5284\n",
      "2.0       608\n",
      "4.0        64\n",
      "6.0       222\n",
      "7.0       835\n",
      "8.0       860\n",
      "130.0     152\n",
      "dtype: int64 64\n"
     ]
    },
    {
     "data": {
      "text/plain": [
       "especie_id\n",
       "1.0      64\n",
       "2.0      64\n",
       "4.0      64\n",
       "6.0      64\n",
       "7.0      64\n",
       "8.0      64\n",
       "130.0    64\n",
       "dtype: int64"
      ]
     },
     "execution_count": 24,
     "metadata": {},
     "output_type": "execute_result"
    }
   ],
   "source": [
    "especieGroup = dataDescription.groupby('especie_id')\n",
    "\n",
    "#Get especies ids and the size of \"marcas\" and get an index array to sort the order of species in terms\n",
    "#of how many marcs they have\n",
    "uniqueIDs = []\n",
    "counter = []\n",
    "for k,v in especieGroup.groups.items():\n",
    "    uniqueIDs.append(k)\n",
    "    counter.append(len(v))\n",
    "idx = np.argsort(counter)\n",
    "#Order the array based on \"marcas\" amount\n",
    "uniqueIDs[:] = np.array(uniqueIDs)[idx]\n",
    "\n",
    "\n",
    "especieConArchivo = dataDescription.groupby(['especie_id','archivo'])\n",
    "\n",
    "\n",
    "#Contiene el nombre de todas las grabaciones usadas\n",
    "grabaciones = []\n",
    "\n",
    "#Grabaciones usadas en el training\n",
    "aceptadas = []\n",
    "\n",
    "#Diccionario que contiene el nombre de las grabaciones usadas de cada especie\n",
    "grabacionName = {}\n",
    "#Diccionario que contiene el counter de marcas por grabacion de cada especie\n",
    "counterGrab = {}\n",
    "#Diccionario para contar la cantidad de marcas que tenemos de cada especie\n",
    "counterEspecie ={}\n",
    "for k, v in (especieConArchivo.groups).items():\n",
    "    #\n",
    "    if k[0] not in grabacionName.keys():\n",
    "        grabacionName[k[0]] = []\n",
    "        counterGrab[k[0]] = []\n",
    "        counterEspecie[k[0]] = 0 \n",
    "    grabacionName[k[0]].append( k[1])\n",
    "    counterGrab[k[0]].append(int(len(v)))\n",
    "    if k[1] not in grabaciones:\n",
    "        grabaciones.append(k[1])\n",
    "    \n",
    "#Ordenar las grabaciones dentro de cada especie por la cantidad de marcas que contienen\n",
    "for k, v in counterGrab.items():\n",
    "    sortByIndex = np.argsort(counterGrab[k])[::-1]\n",
    "    #Convertir arreglos a np arrays para poder ordenarlos usando indexing (argsort)\n",
    "    grabacionName[k] = np.array(grabacionName[k])\n",
    "    counterGrab[k] = np.array(counterGrab[k])\n",
    "\n",
    "    grabacionName[k][:] = grabacionName[k][sortByIndex]\n",
    "    counterGrab[k][:] = counterGrab[k][sortByIndex]\n",
    "    \n",
    "\n",
    "#Buffer que contiene el minimo cantidad de marcas que queremos para training\n",
    "finalCounter = 200\n",
    "#El for loop irá de la especie con menos marcas a la que mas tiene \n",
    "for specie in uniqueIDs:\n",
    "    #Ir por cada grabacion que tiene especie\n",
    "    for ctr, grabacion in enumerate(grabacionName[specie]):\n",
    "\n",
    "        #Verificar que la cantidad de marcas para training es mayor que \"finalcounter\"\n",
    "        if counterEspecie[specie] < finalCounter:\n",
    "            #Buscar la grabacion y la cantidad de marcas obtenidas de cada especie y añadirselo al counter\n",
    "            for k,v in grabacionName.items():\n",
    "                idx = np.where(v  == grabacion)[0]\n",
    "                if len(idx) == 1 and grabacion in grabaciones:\n",
    "                    counterEspecie[k] += counterGrab[k][idx]\n",
    "\n",
    "            #Remover la grabacion usada\n",
    "            if grabacion in grabaciones:\n",
    "                grabaciones.remove(grabacion)\n",
    "                aceptadas.append(grabacion)\n",
    "        else:\n",
    "            break\n",
    "print(counterEspecie)\n",
    "print(len(grabaciones))\n",
    "print(len(aceptadas))\n",
    "\n",
    "#Elimina grabaciones usadas en training\n",
    "marcasTesting = dataDescription\n",
    "for i in aceptadas:\n",
    "    if i in marcasTesting['archivo'].unique():\n",
    "        idx = (marcasTesting.index[marcasTesting['archivo'] == i])\n",
    "        marcasTesting = marcasTesting.drop(idx)\n",
    "print(len(marcasTesting['archivo'].unique()))\n",
    "\n",
    "#Eliminar grabaciones no usadas en training\n",
    "marcasTraining =  dataDescription\n",
    "for i in grabaciones:\n",
    "    if i in marcasTraining['archivo'].unique():\n",
    "        idx = (marcasTraining.index[marcasTraining['archivo'] == i])\n",
    "#         print(idx)\n",
    "#         print(idx)\n",
    "        marcasTraining = marcasTraining.drop(idx)\n",
    "print(len(marcasTraining['archivo'].unique()))\n",
    "\n",
    "#Identificar la cantidad minima de marcas que una especie tiene\n",
    "minMarcas = min(marcasTraining.groupby(\"especie_id\").size())\n",
    "print(marcasTraining.groupby(\"especie_id\").size())\n",
    "trainingMarcas = minMarcas\n",
    "trainingFinal = marcasTraining.groupby('especie_id').apply(lambda x: x.sample( trainingMarcas, random_state= 10))\n",
    "trainingFinal.groupby(\"especie_id\").size()\n",
    "\n",
    "#Identificar training set (para evaluar los modelos)\n",
    "minMarcas = min(marcasTesting.groupby(\"especie_id\").size())\n",
    "print(marcasTesting.groupby(\"especie_id\").size(), minMarcas)\n",
    "testingMarcas = minMarcas\n",
    "testingFinal = marcasTesting.groupby('especie_id').apply(lambda x: x.sample( testingMarcas, random_state= 10))\n",
    "testingFinal.groupby(\"especie_id\").size()"
   ]
  },
  {
   "cell_type": "code",
   "execution_count": 25,
   "metadata": {},
   "outputs": [
    {
     "name": "stdout",
     "output_type": "stream",
     "text": [
      "Time taken  148.8367030620575\n"
     ]
    }
   ],
   "source": [
    "for k,v in counterEspecie.items():\n",
    "    v[0] = 0\n",
    "first = time.time()\n",
    "trainingDataset, trainingLabels, marcasEspecies = transformDataset2(trainingFinal, timeLimit,frequencyLimit, counterEspecie)\n",
    "print(\"Time taken \", time.time()-first)"
   ]
  },
  {
   "cell_type": "code",
   "execution_count": 26,
   "metadata": {},
   "outputs": [],
   "source": [
    "from sklearn import model_selection as mod_selec"
   ]
  },
  {
   "cell_type": "code",
   "execution_count": 27,
   "metadata": {},
   "outputs": [],
   "source": [
    "X_train, X_test, y_train, y_test = mod_selec.train_test_split(trainingDataset, trainingLabels, test_size=0.2)\n",
    "#divides datasets into training and test data using only 20% of the data for testing"
   ]
  },
  {
   "cell_type": "code",
   "execution_count": 28,
   "metadata": {},
   "outputs": [
    {
     "data": {
      "text/plain": [
       "{1.0: array([881]),\n",
       " 2.0: array([476]),\n",
       " 4.0: array([711]),\n",
       " 6.0: array([803]),\n",
       " 7.0: array([798]),\n",
       " 8.0: array([1326]),\n",
       " 130.0: array([2759])}"
      ]
     },
     "execution_count": 28,
     "metadata": {},
     "output_type": "execute_result"
    }
   ],
   "source": [
    "marcasEspecies"
   ]
  },
  {
   "cell_type": "code",
   "execution_count": 29,
   "metadata": {},
   "outputs": [
    {
     "data": {
      "text/plain": [
       "(6203, 86, 469)"
      ]
     },
     "execution_count": 29,
     "metadata": {},
     "output_type": "execute_result"
    }
   ],
   "source": [
    "X_train.shape#why does the transformDataset2 return a 3d arrayinto (my guess is because the funtion inserts all the (86, 469 arrays \n",
    "                #into an array) but if thats the case, they why does it only insert 6203 when the csv has over 12000)\n",
    "                #beacuse its set to a max frequency of 8000 cutting out  the remaining samples"
   ]
  },
  {
   "cell_type": "code",
   "execution_count": 30,
   "metadata": {},
   "outputs": [],
   "source": [
    "import tensorflow as tf\n",
    "from sklearn.preprocessing import OneHotEncoder\n",
    "from sklearn.metrics import accuracy_score, confusion_matrix, classification_report"
   ]
  },
  {
   "cell_type": "code",
   "execution_count": 31,
   "metadata": {},
   "outputs": [],
   "source": [
    "model = tf.keras.models.Sequential([\n",
    "        tf.keras.layers.Conv1D(32, 3, activation='relu', input_shape=(86, 469)), \n",
    "        tf.keras.layers.MaxPooling1D(2,2),\n",
    "        tf.keras.layers.Flatten(),\n",
    "        tf.keras.layers.Dense(128, activation='relu'),\n",
    "        tf.keras.layers.Dense(7, activation='softmax')\n",
    "])"
   ]
  },
  {
   "cell_type": "code",
   "execution_count": 32,
   "metadata": {},
   "outputs": [
    {
     "name": "stdout",
     "output_type": "stream",
     "text": [
      "_________________________________________________________________\n",
      "Layer (type)                 Output Shape              Param #   \n",
      "=================================================================\n",
      "conv1d_1 (Conv1D)            (None, 84, 32)            45056     \n",
      "_________________________________________________________________\n",
      "max_pooling1d_1 (MaxPooling1 (None, 42, 32)            0         \n",
      "_________________________________________________________________\n",
      "flatten_1 (Flatten)          (None, 1344)              0         \n",
      "_________________________________________________________________\n",
      "dense_1 (Dense)              (None, 128)               172160    \n",
      "_________________________________________________________________\n",
      "dense_2 (Dense)              (None, 7)                 903       \n",
      "=================================================================\n",
      "Total params: 218,119\n",
      "Trainable params: 218,119\n",
      "Non-trainable params: 0\n",
      "_________________________________________________________________\n"
     ]
    }
   ],
   "source": [
    "model.summary()"
   ]
  },
  {
   "cell_type": "code",
   "execution_count": 33,
   "metadata": {},
   "outputs": [
    {
     "name": "stdout",
     "output_type": "stream",
     "text": [
      "WARNING:tensorflow:From /opt/conda/lib/python3.6/site-packages/tensorflow/python/keras/_impl/keras/backend.py:3086: calling reduce_sum (from tensorflow.python.ops.math_ops) with keep_dims is deprecated and will be removed in a future version.\n",
      "Instructions for updating:\n",
      "keep_dims is deprecated, use keepdims instead\n",
      "WARNING:tensorflow:From /opt/conda/lib/python3.6/site-packages/tensorflow/python/keras/_impl/keras/backend.py:1557: calling reduce_mean (from tensorflow.python.ops.math_ops) with keep_dims is deprecated and will be removed in a future version.\n",
      "Instructions for updating:\n",
      "keep_dims is deprecated, use keepdims instead\n"
     ]
    }
   ],
   "source": [
    "model.compile(loss = 'categorical_crossentropy', optimizer='rmsprop', metrics=['accuracy'])"
   ]
  },
  {
   "cell_type": "code",
   "execution_count": 34,
   "metadata": {},
   "outputs": [],
   "source": [
    "# # y_test.shape\n",
    "# y_test.size\n",
    "# _________________________________________________________________\n",
    "# model.compile(loss = 'categorical_crossentropy', optimizer='rmsprop', metrics=['accuracy'])\n",
    "# test\n",
    "# # y_test.shape\n",
    "# y_test.size\n",
    "# ​\n",
    "# 1551\n",
    "# y_onehot = y_train.reshape((y_train.size, 1))# can also use np.transpose, \n",
    "# y_test_OneHot = y_test.reshape((y_test.size,1))\n",
    "# from sklearn.preprocessing import OneHotEncoder\n",
    "# onehot = OneHotEncoder(sparse=False) #puts the lables in a vector \n",
    "# ​\n",
    "# y_hotenc = onehot.fit_transfor\n"
   ]
  },
  {
   "cell_type": "code",
   "execution_count": 35,
   "metadata": {},
   "outputs": [],
   "source": [
    "model.compile(loss = 'categorical_crossentropy', optimizer='rmsprop', metrics=['accuracy'])\n"
   ]
  },
  {
   "cell_type": "code",
   "execution_count": 36,
   "metadata": {},
   "outputs": [],
   "source": [
    "# y_onehot = y_train.reshape((y_train.size, 1))# can also use np.transpose, \n"
   ]
  },
  {
   "cell_type": "code",
   "execution_count": 37,
   "metadata": {},
   "outputs": [],
   "source": [
    "# from sklearn.preprocessing import OneHotEncoder\n",
    "# onehot = OneHotEncoder(sparse=False) #puts the lables in a vector \n",
    "# y_hotenc = onehot.fit_transform\n"
   ]
  },
  {
   "cell_type": "code",
   "execution_count": 38,
   "metadata": {},
   "outputs": [],
   "source": [
    "y_onehot = y_train.reshape((y_train.size, 1))# can also use np.transpose, \n",
    "y_test_OneHot = y_test.reshape((y_test.size,1))"
   ]
  },
  {
   "cell_type": "code",
   "execution_count": 39,
   "metadata": {},
   "outputs": [],
   "source": [
    "onehot = OneHotEncoder(sparse=False) #puts the lables in a vector \n"
   ]
  },
  {
   "cell_type": "code",
   "execution_count": 40,
   "metadata": {},
   "outputs": [],
   "source": [
    "y_hotenc = onehot.fit_transform(y_onehot)"
   ]
  },
  {
   "cell_type": "code",
   "execution_count": 41,
   "metadata": {},
   "outputs": [],
   "source": [
    "y_test_OneHotEnc = onehot.transform(y_test_OneHot)"
   ]
  },
  {
   "cell_type": "code",
   "execution_count": 42,
   "metadata": {},
   "outputs": [
    {
     "data": {
      "text/plain": [
       "array([0., 0., 0., 0., 0., 1., 0.])"
      ]
     },
     "execution_count": 42,
     "metadata": {},
     "output_type": "execute_result"
    }
   ],
   "source": [
    "y_hotenc[0]"
   ]
  },
  {
   "cell_type": "code",
   "execution_count": 43,
   "metadata": {},
   "outputs": [
    {
     "data": {
      "text/plain": [
       "array([[0., 0., 0., ..., 0., 1., 0.],\n",
       "       [0., 1., 0., ..., 0., 0., 0.],\n",
       "       [1., 0., 0., ..., 0., 0., 0.],\n",
       "       ...,\n",
       "       [0., 0., 0., ..., 0., 0., 1.],\n",
       "       [0., 0., 0., ..., 0., 0., 1.],\n",
       "       [0., 0., 1., ..., 0., 0., 0.]])"
      ]
     },
     "execution_count": 43,
     "metadata": {},
     "output_type": "execute_result"
    }
   ],
   "source": [
    "y_test_OneHotEnc"
   ]
  },
  {
   "cell_type": "code",
   "execution_count": 44,
   "metadata": {},
   "outputs": [
    {
     "name": "stdout",
     "output_type": "stream",
     "text": [
      "[[0. 0. 0. ... 0. 1. 0.]\n",
      " [1. 0. 0. ... 0. 0. 0.]\n",
      " [1. 0. 0. ... 0. 0. 0.]\n",
      " ...\n",
      " [1. 0. 0. ... 0. 0. 0.]\n",
      " [0. 0. 0. ... 0. 0. 1.]\n",
      " [0. 0. 0. ... 0. 0. 1.]]\n"
     ]
    }
   ],
   "source": [
    "y_hotenc.shape\n",
    "print(y_hotenc)"
   ]
  },
  {
   "cell_type": "code",
   "execution_count": 45,
   "metadata": {},
   "outputs": [
    {
     "name": "stdout",
     "output_type": "stream",
     "text": [
      "(6203, 86, 469)\n",
      "Epoch 1/5\n",
      "6203/6203 [==============================]6203/6203 [==============================] - 6s 1ms/step - loss: 0.4531 - acc: 0.8370\n",
      "\n",
      "Epoch 2/5\n",
      "6203/6203 [==============================]6203/6203 [==============================] - 6s 1ms/step - loss: 0.2784 - acc: 0.8926\n",
      "\n",
      "Epoch 3/5\n",
      "6203/6203 [==============================]6203/6203 [==============================] - 6s 1ms/step - loss: 0.2171 - acc: 0.9165\n",
      "\n",
      "Epoch 4/5\n",
      "6203/6203 [==============================]6203/6203 [==============================] - 6s 1ms/step - loss: 0.1671 - acc: 0.9410\n",
      "\n",
      "Epoch 5/5\n",
      "6203/6203 [==============================]6203/6203 [==============================] - 6s 1ms/step - loss: 0.1292 - acc: 0.9560\n",
      "\n"
     ]
    },
    {
     "data": {
      "text/plain": [
       "<tensorflow.python.keras._impl.keras.callbacks.History at 0x7fccc5c610f0>"
      ]
     },
     "execution_count": 45,
     "metadata": {},
     "output_type": "execute_result"
    }
   ],
   "source": [
    "print(X_train.shape)\n",
    "model.fit(X_train,y_hotenc, epochs = 5) # cambiar labels a one hot encoder\n"
   ]
  },
  {
   "cell_type": "code",
   "execution_count": 46,
   "metadata": {},
   "outputs": [],
   "source": [
    "predictions = model.predict(X_test)"
   ]
  },
  {
   "cell_type": "code",
   "execution_count": 47,
   "metadata": {},
   "outputs": [
    {
     "data": {
      "text/plain": [
       "array([0.977764  , 0.01422794, 0.00747594, 0.00002848, 0.00042842,\n",
       "       0.00007516, 0.00000002], dtype=float32)"
      ]
     },
     "execution_count": 47,
     "metadata": {},
     "output_type": "execute_result"
    }
   ],
   "source": [
    "predictions[2]"
   ]
  },
  {
   "cell_type": "code",
   "execution_count": 48,
   "metadata": {},
   "outputs": [
    {
     "data": {
      "text/plain": [
       "1.0"
      ]
     },
     "execution_count": 48,
     "metadata": {},
     "output_type": "execute_result"
    }
   ],
   "source": [
    "y_test[2]"
   ]
  },
  {
   "cell_type": "code",
   "execution_count": null,
   "metadata": {},
   "outputs": [],
   "source": []
  },
  {
   "cell_type": "code",
   "execution_count": 49,
   "metadata": {},
   "outputs": [
    {
     "data": {
      "text/plain": [
       "((1551, 7), (1551, 7))"
      ]
     },
     "execution_count": 49,
     "metadata": {},
     "output_type": "execute_result"
    }
   ],
   "source": [
    "predictions.shape, y_test_OneHotEnc.shape"
   ]
  },
  {
   "cell_type": "code",
   "execution_count": 50,
   "metadata": {},
   "outputs": [],
   "source": [
    "predscalar = np.argmax(predictions, axis = 1) \n",
    "y_test_scalar = np.argmax(y_test_OneHotEnc, axis = 1) "
   ]
  },
  {
   "cell_type": "code",
   "execution_count": 51,
   "metadata": {},
   "outputs": [
    {
     "data": {
      "text/plain": [
       "0.965183752417795"
      ]
     },
     "execution_count": 51,
     "metadata": {},
     "output_type": "execute_result"
    }
   ],
   "source": [
    "accuracy_score(y_test_scalar, predscalar)"
   ]
  },
  {
   "cell_type": "code",
   "execution_count": 52,
   "metadata": {},
   "outputs": [
    {
     "data": {
      "text/plain": [
       "(1551,)"
      ]
     },
     "execution_count": 52,
     "metadata": {},
     "output_type": "execute_result"
    }
   ],
   "source": [
    "y_test.shape"
   ]
  },
  {
   "cell_type": "code",
   "execution_count": 53,
   "metadata": {},
   "outputs": [
    {
     "data": {
      "text/plain": [
       "array([[173,   2,   1,   5,   0,   0,   0],\n",
       "       [  2,  89,   1,   0,   0,   0,   0],\n",
       "       [  3,   4, 127,   9,   0,   0,   0],\n",
       "       [  0,   0,  12, 131,   0,   0,   0],\n",
       "       [  0,   0,   0,   0, 162,   4,   0],\n",
       "       [  0,   0,   0,   0,  11, 247,   0],\n",
       "       [  0,   0,   0,   0,   0,   0, 568]])"
      ]
     },
     "execution_count": 53,
     "metadata": {},
     "output_type": "execute_result"
    }
   ],
   "source": [
    "confusion_matrix(y_test_scalar, predscalar)"
   ]
  },
  {
   "cell_type": "code",
   "execution_count": 54,
   "metadata": {},
   "outputs": [
    {
     "name": "stdout",
     "output_type": "stream",
     "text": [
      "             precision    recall  f1-score   support\n",
      "\n",
      "          0       0.97      0.96      0.96       181\n",
      "          1       0.94      0.97      0.95        92\n",
      "          2       0.90      0.89      0.89       143\n",
      "          3       0.90      0.92      0.91       143\n",
      "          4       0.94      0.98      0.96       166\n",
      "          5       0.98      0.96      0.97       258\n",
      "          6       1.00      1.00      1.00       568\n",
      "\n",
      "avg / total       0.97      0.97      0.97      1551\n",
      "\n"
     ]
    }
   ],
   "source": [
    "print(classification_report(y_test_scalar, predscalar))"
   ]
  },
  {
   "cell_type": "code",
   "execution_count": 55,
   "metadata": {},
   "outputs": [],
   "source": [
    "#how to use the arrays for testing"
   ]
  },
  {
   "cell_type": "code",
   "execution_count": 56,
   "metadata": {},
   "outputs": [
    {
     "data": {
      "text/plain": [
       "\"to do list: \\n        1. figure out why using when another csv the code doesnt work and doesn't read the data\\n        2. how to use the test set to verify how accurate the code is making prediccions\\n        3. why is it being so accurate, on the training, maybe it memorized, can be verified with 2\\n        4. if 3 turns out to reveal the failures of the code(very likely), verify how to adjust the parameters to make the model accurately make prediccions\\n\\n\""
      ]
     },
     "execution_count": 56,
     "metadata": {},
     "output_type": "execute_result"
    }
   ],
   "source": [
    "'''to do list: \n",
    "        1. figure out why using when another csv the code doesnt work and doesn't read the data\n",
    "        2. how to use the test set to verify how accurate the code is making prediccions\n",
    "        3. why is it being so accurate, on the training, maybe it memorized, can be verified with 2\n",
    "        4. if 3 turns out to reveal the failures of the code(very likely), verify how to adjust the parameters to make the model accurately make prediccions\n",
    "\n",
    "'''"
   ]
  },
  {
   "cell_type": "code",
   "execution_count": 57,
   "metadata": {},
   "outputs": [],
   "source": [
    "def modelRun(X_train, y_train):\n",
    "    y_onehot = y_train.reshape((y_train.size, 1))# can also use np.transpose, \n",
    "    onehot = OneHotEncoder(sparse=False) #puts the lables in a vector \n",
    "    y_hotenc = onehot.fit_transform(y_onehot)\n",
    "    print(\"is this? \", y_hotenc[4].shape)\n",
    "    print(\"yhot\", y_hotenc)\n",
    "    print(X_train.shape)\n",
    "    model.summary()\n",
    "    model_History = model.fit(X_train,y_hotenc, epochs = 5) # cambiar labels a one hot encoder\n",
    "\n",
    "    return model_History\n",
    "    "
   ]
  },
  {
   "cell_type": "code",
   "execution_count": 58,
   "metadata": {},
   "outputs": [],
   "source": [
    "def modelPrediccions(X_test, y_test):\n",
    "    predictions = model.predict(X_test)\n",
    "    y_test_OneHot = y_test.reshape((y_test.size,1))\n",
    "    y_test_OneHotEnc = onehot.transform(y_test_OneHot)\n",
    "    predscalar = np.argmax(predictions, axis = 1)\n",
    "    y_test_scalar = np.argmax(y_test_OneHotEnc, axis = 1) \n",
    "    accuracy = accuracy_score(y_test_scalar, predscalar)\n",
    "    matrix = confusion_matrix(y_test_scalar, predscalar)\n",
    "    class_report = classification_report(y_test_scalar, predscalar)\n",
    "    \n",
    "    return accuracy, matrix, class_report"
   ]
  },
  {
   "cell_type": "code",
   "execution_count": null,
   "metadata": {},
   "outputs": [],
   "source": []
  },
  {
   "cell_type": "code",
   "execution_count": 59,
   "metadata": {},
   "outputs": [
    {
     "name": "stdout",
     "output_type": "stream",
     "text": [
      "KFold(n_splits=5, random_state=None, shuffle=False)\n",
      "is this?  (5,)\n",
      "yhot [[1. 0. 0. 0. 0.]\n",
      " [1. 0. 0. 0. 0.]\n",
      " [1. 0. 0. 0. 0.]\n",
      " ...\n",
      " [0. 0. 0. 0. 1.]\n",
      " [0. 0. 0. 0. 1.]\n",
      " [0. 0. 0. 0. 1.]]\n",
      "(6203, 86, 469)\n",
      "_________________________________________________________________\n",
      "Layer (type)                 Output Shape              Param #   \n",
      "=================================================================\n",
      "conv1d_1 (Conv1D)            (None, 84, 32)            45056     \n",
      "_________________________________________________________________\n",
      "max_pooling1d_1 (MaxPooling1 (None, 42, 32)            0         \n",
      "_________________________________________________________________\n",
      "flatten_1 (Flatten)          (None, 1344)              0         \n",
      "_________________________________________________________________\n",
      "dense_1 (Dense)              (None, 128)               172160    \n",
      "_________________________________________________________________\n",
      "dense_2 (Dense)              (None, 7)                 903       \n",
      "=================================================================\n",
      "Total params: 218,119\n",
      "Trainable params: 218,119\n",
      "Non-trainable params: 0\n",
      "_________________________________________________________________\n"
     ]
    },
    {
     "ename": "ValueError",
     "evalue": "Error when checking target: expected dense_2 to have shape (None, 7) but got array with shape (6203, 5)",
     "output_type": "error",
     "traceback": [
      "\u001b[0;31m---------------------------------------------------------------------------\u001b[0m",
      "\u001b[0;31mValueError\u001b[0m                                Traceback (most recent call last)",
      "\u001b[0;32m<ipython-input-59-e682a8ef11f3>\u001b[0m in \u001b[0;36m<module>\u001b[0;34m()\u001b[0m\n\u001b[1;32m     11\u001b[0m \u001b[0;31m#     print(X_train.shape)\u001b[0m\u001b[0;34m\u001b[0m\u001b[0;34m\u001b[0m\u001b[0m\n\u001b[1;32m     12\u001b[0m \u001b[0;31m#     print(\"y shape: \", y_train.shape)\u001b[0m\u001b[0;34m\u001b[0m\u001b[0;34m\u001b[0m\u001b[0m\n\u001b[0;32m---> 13\u001b[0;31m     \u001b[0mhistory\u001b[0m \u001b[0;34m=\u001b[0m \u001b[0mmodelRun\u001b[0m\u001b[0;34m(\u001b[0m\u001b[0mX_train\u001b[0m\u001b[0;34m,\u001b[0m \u001b[0my_train\u001b[0m\u001b[0;34m)\u001b[0m\u001b[0;34m\u001b[0m\u001b[0m\n\u001b[0m\u001b[1;32m     14\u001b[0m \u001b[0;31m#     print(history)\u001b[0m\u001b[0;34m\u001b[0m\u001b[0;34m\u001b[0m\u001b[0m\n\u001b[1;32m     15\u001b[0m     \u001b[0macc\u001b[0m\u001b[0;34m,\u001b[0m \u001b[0mmtrx\u001b[0m\u001b[0;34m,\u001b[0m \u001b[0mcr\u001b[0m \u001b[0;34m=\u001b[0m \u001b[0mmodelPrediccions\u001b[0m\u001b[0;34m(\u001b[0m\u001b[0mX_test\u001b[0m\u001b[0;34m,\u001b[0m \u001b[0my_test\u001b[0m\u001b[0;34m)\u001b[0m\u001b[0;34m\u001b[0m\u001b[0m\n",
      "\u001b[0;32m<ipython-input-57-53012f1c3e94>\u001b[0m in \u001b[0;36mmodelRun\u001b[0;34m(X_train, y_train)\u001b[0m\n\u001b[1;32m      7\u001b[0m     \u001b[0mprint\u001b[0m\u001b[0;34m(\u001b[0m\u001b[0mX_train\u001b[0m\u001b[0;34m.\u001b[0m\u001b[0mshape\u001b[0m\u001b[0;34m)\u001b[0m\u001b[0;34m\u001b[0m\u001b[0m\n\u001b[1;32m      8\u001b[0m     \u001b[0mmodel\u001b[0m\u001b[0;34m.\u001b[0m\u001b[0msummary\u001b[0m\u001b[0;34m(\u001b[0m\u001b[0;34m)\u001b[0m\u001b[0;34m\u001b[0m\u001b[0m\n\u001b[0;32m----> 9\u001b[0;31m     \u001b[0mmodel_History\u001b[0m \u001b[0;34m=\u001b[0m \u001b[0mmodel\u001b[0m\u001b[0;34m.\u001b[0m\u001b[0mfit\u001b[0m\u001b[0;34m(\u001b[0m\u001b[0mX_train\u001b[0m\u001b[0;34m,\u001b[0m\u001b[0my_hotenc\u001b[0m\u001b[0;34m,\u001b[0m \u001b[0mepochs\u001b[0m \u001b[0;34m=\u001b[0m \u001b[0;36m5\u001b[0m\u001b[0;34m)\u001b[0m \u001b[0;31m# cambiar labels a one hot encoder\u001b[0m\u001b[0;34m\u001b[0m\u001b[0m\n\u001b[0m\u001b[1;32m     10\u001b[0m \u001b[0;34m\u001b[0m\u001b[0m\n\u001b[1;32m     11\u001b[0m     \u001b[0;32mreturn\u001b[0m \u001b[0mmodel_History\u001b[0m\u001b[0;34m\u001b[0m\u001b[0m\n",
      "\u001b[0;32m/opt/conda/lib/python3.6/site-packages/tensorflow/python/keras/_impl/keras/models.py\u001b[0m in \u001b[0;36mfit\u001b[0;34m(self, x, y, batch_size, epochs, verbose, callbacks, validation_split, validation_data, shuffle, class_weight, sample_weight, initial_epoch, steps_per_epoch, validation_steps, **kwargs)\u001b[0m\n\u001b[1;32m    918\u001b[0m         \u001b[0minitial_epoch\u001b[0m\u001b[0;34m=\u001b[0m\u001b[0minitial_epoch\u001b[0m\u001b[0;34m,\u001b[0m\u001b[0;34m\u001b[0m\u001b[0m\n\u001b[1;32m    919\u001b[0m         \u001b[0msteps_per_epoch\u001b[0m\u001b[0;34m=\u001b[0m\u001b[0msteps_per_epoch\u001b[0m\u001b[0;34m,\u001b[0m\u001b[0;34m\u001b[0m\u001b[0m\n\u001b[0;32m--> 920\u001b[0;31m         validation_steps=validation_steps)\n\u001b[0m\u001b[1;32m    921\u001b[0m \u001b[0;34m\u001b[0m\u001b[0m\n\u001b[1;32m    922\u001b[0m   \u001b[0;32mdef\u001b[0m \u001b[0mevaluate\u001b[0m\u001b[0;34m(\u001b[0m\u001b[0mself\u001b[0m\u001b[0;34m,\u001b[0m \u001b[0mx\u001b[0m\u001b[0;34m,\u001b[0m \u001b[0my\u001b[0m\u001b[0;34m,\u001b[0m \u001b[0mbatch_size\u001b[0m\u001b[0;34m=\u001b[0m\u001b[0;36m32\u001b[0m\u001b[0;34m,\u001b[0m \u001b[0mverbose\u001b[0m\u001b[0;34m=\u001b[0m\u001b[0;36m1\u001b[0m\u001b[0;34m,\u001b[0m \u001b[0msample_weight\u001b[0m\u001b[0;34m=\u001b[0m\u001b[0;32mNone\u001b[0m\u001b[0;34m)\u001b[0m\u001b[0;34m:\u001b[0m\u001b[0;34m\u001b[0m\u001b[0m\n",
      "\u001b[0;32m/opt/conda/lib/python3.6/site-packages/tensorflow/python/keras/_impl/keras/engine/training.py\u001b[0m in \u001b[0;36mfit\u001b[0;34m(self, x, y, batch_size, epochs, verbose, callbacks, validation_split, validation_data, shuffle, class_weight, sample_weight, initial_epoch, steps_per_epoch, validation_steps)\u001b[0m\n\u001b[1;32m   1590\u001b[0m         \u001b[0mclass_weight\u001b[0m\u001b[0;34m=\u001b[0m\u001b[0mclass_weight\u001b[0m\u001b[0;34m,\u001b[0m\u001b[0;34m\u001b[0m\u001b[0m\n\u001b[1;32m   1591\u001b[0m         \u001b[0mcheck_batch_axis\u001b[0m\u001b[0;34m=\u001b[0m\u001b[0;32mFalse\u001b[0m\u001b[0;34m,\u001b[0m\u001b[0;34m\u001b[0m\u001b[0m\n\u001b[0;32m-> 1592\u001b[0;31m         batch_size=batch_size)\n\u001b[0m\u001b[1;32m   1593\u001b[0m \u001b[0;34m\u001b[0m\u001b[0m\n\u001b[1;32m   1594\u001b[0m     \u001b[0;31m# Prepare validation data.\u001b[0m\u001b[0;34m\u001b[0m\u001b[0;34m\u001b[0m\u001b[0m\n",
      "\u001b[0;32m/opt/conda/lib/python3.6/site-packages/tensorflow/python/keras/_impl/keras/engine/training.py\u001b[0m in \u001b[0;36m_standardize_user_data\u001b[0;34m(self, x, y, sample_weight, class_weight, check_batch_axis, batch_size)\u001b[0m\n\u001b[1;32m   1435\u001b[0m         \u001b[0moutput_shapes\u001b[0m\u001b[0;34m,\u001b[0m\u001b[0;34m\u001b[0m\u001b[0m\n\u001b[1;32m   1436\u001b[0m         \u001b[0mcheck_batch_axis\u001b[0m\u001b[0;34m=\u001b[0m\u001b[0;32mFalse\u001b[0m\u001b[0;34m,\u001b[0m\u001b[0;34m\u001b[0m\u001b[0m\n\u001b[0;32m-> 1437\u001b[0;31m         exception_prefix='target')\n\u001b[0m\u001b[1;32m   1438\u001b[0m     sample_weights = _standardize_sample_weights(sample_weight,\n\u001b[1;32m   1439\u001b[0m                                                  self._feed_output_names)\n",
      "\u001b[0;32m/opt/conda/lib/python3.6/site-packages/tensorflow/python/keras/_impl/keras/engine/training.py\u001b[0m in \u001b[0;36m_standardize_input_data\u001b[0;34m(data, names, shapes, check_batch_axis, exception_prefix)\u001b[0m\n\u001b[1;32m    152\u001b[0m                              \u001b[0;34m': expected '\u001b[0m \u001b[0;34m+\u001b[0m \u001b[0mnames\u001b[0m\u001b[0;34m[\u001b[0m\u001b[0mi\u001b[0m\u001b[0;34m]\u001b[0m \u001b[0;34m+\u001b[0m \u001b[0;34m' to have shape '\u001b[0m \u001b[0;34m+\u001b[0m\u001b[0;34m\u001b[0m\u001b[0m\n\u001b[1;32m    153\u001b[0m                              \u001b[0mstr\u001b[0m\u001b[0;34m(\u001b[0m\u001b[0mshapes\u001b[0m\u001b[0;34m[\u001b[0m\u001b[0mi\u001b[0m\u001b[0;34m]\u001b[0m\u001b[0;34m)\u001b[0m \u001b[0;34m+\u001b[0m \u001b[0;34m' but got array with shape '\u001b[0m \u001b[0;34m+\u001b[0m\u001b[0;34m\u001b[0m\u001b[0m\n\u001b[0;32m--> 154\u001b[0;31m                              str(array.shape))\n\u001b[0m\u001b[1;32m    155\u001b[0m   \u001b[0;32mreturn\u001b[0m \u001b[0marrays\u001b[0m\u001b[0;34m\u001b[0m\u001b[0m\n\u001b[1;32m    156\u001b[0m \u001b[0;34m\u001b[0m\u001b[0m\n",
      "\u001b[0;31mValueError\u001b[0m: Error when checking target: expected dense_2 to have shape (None, 7) but got array with shape (6203, 5)"
     ]
    }
   ],
   "source": [
    "from sklearn.model_selection import KFold\n",
    "kf = KFold(n_splits=5)\n",
    "kf.get_n_splits(trainingDataset)\n",
    "\n",
    "print(kf)\n",
    "for train_index, test_index in kf.split(trainingDataset):\n",
    "#     print(\"TRAIN:\", train_index, \"TEST:\", test_index)\n",
    "    X_train, X_test = trainingDataset[train_index], trainingDataset[test_index]\n",
    "    y_train, y_test = trainingLabels[train_index], trainingLabels[test_index]\n",
    "\n",
    "#     print(X_train.shape)\n",
    "#     print(\"y shape: \", y_train.shape)\n",
    "    history = modelRun(X_train, y_train)\n",
    "#     print(history)\n",
    "    acc, mtrx, cr = modelPrediccions(X_test, y_test)\n",
    "    print(\"acc: \",acc)\n",
    "    print(mtrx)\n",
    "    print(cr)\n"
   ]
  },
  {
   "cell_type": "code",
   "execution_count": null,
   "metadata": {},
   "outputs": [],
   "source": [
    "print(y_train.shape)"
   ]
  },
  {
   "cell_type": "code",
   "execution_count": null,
   "metadata": {},
   "outputs": [],
   "source": [
    "print(mtrx)"
   ]
  },
  {
   "cell_type": "code",
   "execution_count": null,
   "metadata": {},
   "outputs": [],
   "source": [
    "# import numpy as np\n",
    "# from sklearn.model_selection importKFold\n",
    "X = np.array([[1, 2], [3, 4], [1, 2], [3, 4]])\n",
    "y = np.array([1, 2, 3, 4])\n",
    "kf = KFold(n_splits=2)\n",
    "kf.get_n_splits(X)\n",
    "\n",
    "print(kf)\n",
    "\n",
    "for train_index, test_index in kf.split(X.shape):\n",
    "    print(\"TRAIN:\", train_index, \"TEST:\", test_index)\n",
    "    X_train, X_test = X[train_index], X[test_index]\n",
    "    y_train, y_test = y[train_index], y[test_index]"
   ]
  },
  {
   "cell_type": "code",
   "execution_count": null,
   "metadata": {},
   "outputs": [],
   "source": [
    "trainingDataset[0].shape"
   ]
  },
  {
   "cell_type": "code",
   "execution_count": null,
   "metadata": {},
   "outputs": [],
   "source": [
    "print(\"ok\")"
   ]
  },
  {
   "cell_type": "code",
   "execution_count": null,
   "metadata": {},
   "outputs": [],
   "source": []
  }
 ],
 "metadata": {
  "kernelspec": {
   "display_name": "Python 3",
   "language": "python",
   "name": "python3"
  },
  "language_info": {
   "codemirror_mode": {
    "name": "ipython",
    "version": 3
   },
   "file_extension": ".py",
   "mimetype": "text/x-python",
   "name": "python",
   "nbconvert_exporter": "python",
   "pygments_lexer": "ipython3",
   "version": "3.6.3"
  }
 },
 "nbformat": 4,
 "nbformat_minor": 2
}
