{
 "cells": [
  {
   "attachments": {},
   "cell_type": "markdown",
   "metadata": {},
   "source": [
    "# Imports"
   ]
  },
  {
   "cell_type": "code",
   "execution_count": 1,
   "metadata": {},
   "outputs": [
    {
     "name": "stderr",
     "output_type": "stream",
     "text": [
      "2023-05-04 15:20:28.855283: I tensorflow/core/util/util.cc:169] oneDNN custom operations are on. You may see slightly different numerical results due to floating-point round-off errors from different computation orders. To turn them off, set the environment variable `TF_ENABLE_ONEDNN_OPTS=0`.\n",
      "2023-05-04 15:20:28.858643: W tensorflow/stream_executor/platform/default/dso_loader.cc:64] Could not load dynamic library 'libcudart.so.11.0'; dlerror: libcudart.so.11.0: cannot open shared object file: No such file or directory\n",
      "2023-05-04 15:20:28.858668: I tensorflow/stream_executor/cuda/cudart_stub.cc:29] Ignore above cudart dlerror if you do not have a GPU set up on your machine.\n"
     ]
    }
   ],
   "source": [
    "#Import cluster algorithms\n",
    "from sklearn.cluster import KMeans, DBSCAN\n",
    "\n",
    "#Import classifiers\n",
    "from sklearn.svm import LinearSVC\n",
    "from sklearn.svm import SVC\n",
    "from sklearn.ensemble import RandomForestClassifier\n",
    "from sklearn.naive_bayes import GaussianNB\n",
    "from sklearn.discriminant_analysis import LinearDiscriminantAnalysis\n",
    "from sklearn.ensemble import VotingClassifier\n",
    "from sklearn import model_selection as mod_selec\n",
    "from sklearn.model_selection import KFold\n",
    "from sklearn.preprocessing import OneHotEncoder\n",
    "from sklearn.metrics import accuracy_score, confusion_matrix, classification_report\n",
    "\n",
    "#Import \n",
    "import tensorflow as tf\n",
    "\n",
    "\n",
    "#Import libraries to deal with data\n",
    "import numpy as np\n",
    "import pandas as pd\n",
    "import pickle\n",
    "\n",
    "\n",
    "#Process data libraries\n",
    "from skimage import io\n",
    "from scipy import signal\n",
    "import pylab, wave\n",
    "from scipy.io import wavfile\n",
    "\n",
    "#Miscelanous\n",
    "import math\n",
    "import time\n",
    "import os\n",
    "import warnings\n",
    "\n",
    "\n",
    "#Graphs and show images\n",
    "import itertools\n",
    "import seaborn as sns\n",
    "import matplotlib.pyplot as plt\n",
    "import matplotlib.patches as patches\n",
    "\n",
    "\n",
    "\n",
    "np.random.seed(10)\n",
    "np.set_printoptions(suppress=True)\n",
    "warnings.filterwarnings('ignore')\n",
    "%matplotlib inline \n"
   ]
  },
  {
   "attachments": {},
   "cell_type": "markdown",
   "metadata": {},
   "source": [
    "# Set up el dataset y las funciones"
   ]
  },
  {
   "attachments": {},
   "cell_type": "markdown",
   "metadata": {},
   "source": [
    "Dataset"
   ]
  },
  {
   "cell_type": "code",
   "execution_count": 2,
   "metadata": {},
   "outputs": [],
   "source": [
    "dataset_path = os.path.abspath('kaggle_audios')"
   ]
  },
  {
   "attachments": {},
   "cell_type": "markdown",
   "metadata": {},
   "source": [
    "Funciones de spectograma"
   ]
  },
  {
   "cell_type": "code",
   "execution_count": null,
   "metadata": {},
   "outputs": [],
   "source": [
    "##############################################\n",
    "#                                            #\n",
    "#                Spectrogram                 #\n",
    "#                                            #\n",
    "##############################################\n",
    "#Function to retrieve data from wav files\n",
    "def wavInfo(rec_file):\n",
    "    sample_rate, samples = wavfile.read(rec_file)\n",
    "    channels  = wave.open(rec_file, 'r').getnchannels()\n",
    "    # edit the samples to be from 0 to 7 seconds    \n",
    "    samples = samples[0:sample_rate*7]\n",
    "    # filter the samples to be 93hz to 13687.5hz\n",
    "    a, b = signal.butter(4, [93/(sample_rate/2), 13687.5/(sample_rate/2)], btype='bandpass')\n",
    "    samples = signal.filtfilt(a, b, samples)\n",
    "\n",
    "\n",
    "    return sample_rate, samples, channels\n",
    "\n",
    "\n",
    "#Function to calcualte spectrogram\n",
    "def specInfo(rec_file):\n",
    "    sampleRate, samples, channels = wavInfo(rec_file)\n",
    "    \n",
    "    #Solution for one channels\n",
    "    if(channels == 1):\n",
    "        freqs, t, spectrum  = signal.spectrogram(samples[:], nfft=512, window=\"hann\", fs=sampleRate)\n",
    "        \n",
    "    #Solution for two channels\n",
    "    elif(channels == 2):\n",
    "        freqs, t, spetctrum = signal.spectrogram(samples[:, 1], nfft=512, window=\"hann\", fs=sampleRate)\n",
    "        \n",
    "        spectrum = spectrum.astype(\"float64\") \n",
    "\n",
    "    # print(type(freqs))\n",
    "    return t,freqs,spectrum\n",
    "\n",
    "##############################################\n",
    "#                                            #\n",
    "#              Image/Plotting                #\n",
    "#                                            #\n",
    "##############################################\n",
    "def plotModSpecSimple(times, freqs, specMod, figsize = (8,4), xlab = \"\", ylab = \"\", title = \"\", colorbar = True, patch = None, cmap = \"Purples\"):\n",
    "    \"\"\" \n",
    "        Function to plotspectrograms and bounding boxes in spectrograms\n",
    "        Input:\n",
    "            times - np array containing time steps (shape X,1)\n",
    "            freqs - np array containing frequency steps (shape Y,1)\n",
    "            specMod - np array containing magnitude values on each time step for each frequency (shape - (Y,X))\n",
    "            figsize - list containing width and height size for the figure\n",
    "            xlab - string containining label for x axis\n",
    "            ylab - string contaiing label for y axis\n",
    "            title - string containing title for the graph\n",
    "            colorbar - bool value to decide whether graph should contain colorbar graph or not\n",
    "            patch - array containing matplotlib.patches to be applied to the plot\n",
    "            cmap - cmap for color displaying\n",
    "    \"\"\"\n",
    "    \n",
    "    \n",
    "    fig, ax = pylab.subplots(1,1, figsize = figsize)\n",
    "    ax.set_facecolor(\"grey\")\n",
    "    im = ax.pcolormesh(times, freqs,(specMod), cmap= cmap)\n",
    "    \n",
    "    #Plot spectrogram information given\n",
    "    ax.pcolormesh(times, freqs,(specMod), cmap= cmap)\n",
    "    \n",
    "    #Add all patches to figure, if any\n",
    "    if (patch !=None ):\n",
    "        for i in patch:\n",
    "            ax.add_patch(i)\n",
    "    \n",
    "    #Set x axis label\n",
    "    ax.set_xlabel(xlab)\n",
    "    \n",
    "    #Set y axis label\n",
    "    ax.set_ylabel(ylab)\n",
    "    \n",
    "    #Set title label\n",
    "    ax.set_title(title)\n",
    "    \n",
    "    #Set colorbar if wanted\n",
    "    if(colorbar):\n",
    "        fig.colorbar(im, ax=ax)\n",
    "    \n",
    "    \n",
    "def plot_confusion_matrix(cm, classes,\n",
    "                          normalize=False,\n",
    "                          title='Confusion matrix',\n",
    "                          cmap=plt.cm.Blues):\n",
    "    \"\"\"\n",
    "    This function prints and plots the confusion matrix.\n",
    "    Normalization can be applied by setting `normalize=True`.\n",
    "    \"\"\"\n",
    "    if normalize:\n",
    "        cm = cm.astype('float') / cm.sum(axis=1)[:, np.newaxis]\n",
    "        print(\"Normalized confusion matrix\")\n",
    "    else:\n",
    "        print('Confusion matrix, without normalization')\n",
    "\n",
    "    print(cm)\n",
    "\n",
    "    plt.imshow(cm, interpolation='nearest', cmap=cmap)\n",
    "    plt.title(title)\n",
    "    plt.colorbar()\n",
    "    tick_marks = np.arange(len(classes))\n",
    "    plt.xticks(tick_marks, classes, rotation=45)\n",
    "    plt.yticks(tick_marks, classes)\n",
    "\n",
    "    fmt = '.2f' if normalize else 'd'\n",
    "    thresh = cm.max() / 2.\n",
    "    for i, j in itertools.product(range(cm.shape[0]), range(cm.shape[1])):\n",
    "        plt.text(j, i, format(cm[i, j], fmt),\n",
    "                 horizontalalignment=\"center\",\n",
    "                 color=\"white\" if cm[i, j] > thresh else \"black\")\n",
    "\n",
    "    plt.tight_layout()\n",
    "    plt.ylabel('True label')\n",
    "    plt.xlabel('Predicted label')\n",
    "\n",
    "##############################################\n",
    "#                                            #\n",
    "#              Data processing               #\n",
    "#                                            #\n",
    "##############################################\n",
    "\n",
    "\n",
    "\n",
    "def Filter(array, Min, Max):\n",
    "    '''Given a Min or Max parameter, find the index in the array that corresponds to the given Min or Max value\n",
    "    #Example  [1,4,7,11], Min:5, Max 8, Output = (1,3)\n",
    "    Input: \n",
    "        array: nparray containing information\n",
    "        min  : float containing the minimum value to be found in array\n",
    "        max  : float containing the maximum value to be found in array\n",
    "    '''\n",
    "    # try:\n",
    "        # print(type(array))\n",
    "        # print(array)\n",
    "        # convert to nparray\n",
    "    array = np.array(array)\n",
    "    # if any of the 3 input is None then print the variable that is None\n",
    "    if (array is None) or (Min is None) or (Max is None):\n",
    "        print(\"error: one of the inputs is None\")\n",
    "    Min = float(Min)\n",
    "    Max = float(Max)    \n",
    "\n",
    "    Min = (np.abs(array-Min)).argmin()\n",
    "    Max = (np.abs(array-Max)).argmin()+1\n",
    "\n",
    "    return Min, Max\n",
    "    \n",
    "    # except TypeError:\n",
    "    #     print(\"error: array input is not an nparray\")\n",
    "        \n",
    "        \n",
    "\n",
    "\n",
    "\n",
    "def getMarcaFromSpectrogram(t, freq, spec, minf, maxf, startT, endT, timeIndex):\n",
    "    \n",
    "    #Find index of the time in the array \n",
    "    startI, endI= Filter(t, startT, endT)\n",
    "    \n",
    "    # print('aqui')\n",
    "    # print(freq)\n",
    "    # print(minf)\n",
    "    # print(maxf)\n",
    "\n",
    "    #ind index of the frequencies in the array    \n",
    "    \n",
    "    minfreqI, maxfreqI = Filter(freq, minf, maxf)\n",
    "    \n",
    "    \n",
    "    tSelect = t[startI:endI]\n",
    "    # print(tSelect)\n",
    "    # print(startI)\n",
    "    # print(endI)\n",
    "    # print(minfreqI)\n",
    "    # print(maxfreqI)\n",
    "    freqSelect = freq[minfreqI:maxfreqI]\n",
    "    # print(freqSelect)\n",
    "    if endI - startI > timeIndex:\n",
    "        endI = startI+timeIndex\n",
    "        \n",
    "    mags = [spec[minfreqI][startI:endI]]\n",
    "        \n",
    "    for i in range(minfreqI+1, maxfreqI):\n",
    "        mags = mags + [spec[i][startI:endI]]  \n",
    "    specSelect = np.array(mags)\n",
    "    \n",
    "    return tSelect, freqSelect, specSelect, minfreqI, maxfreqI\n",
    "\n",
    "\n",
    "def newSlicing(array, lowerIdx, upperIdx, step):\n",
    "    resultingArray = np.array(array[lowerIdx:upperIdx])\n",
    "    for i in range(upperIdx,len(array)+1,step):\n",
    "        lowerIdx += step\n",
    "        upperIdx+= step\n",
    "        resultingArray = np.concatenate([resultingArray, array[lowerIdx:upperIdx]])\n",
    "\n",
    "    return resultingArray\n",
    "\n",
    "def orderClusters(flatCluster, flatSpectrogram, num, getGroups = False ):\n",
    "    \"\"\"Function to order the clusters according to the magnitude values\n",
    "       Returns a vector containing the indeces of each cluster, where the \n",
    "       indeces identify which cluster is stronger in terms of magnitude(relative to spectrum)\n",
    "    \n",
    "       Input:\n",
    "           flatCluster: Array containing flattened spectrogram's shape with cluster entries\n",
    "           flatSpectrogram\n",
    "    \"\"\"\n",
    "    \n",
    "    minS = [None]*num\n",
    "    maxS = [None]*num\n",
    "    smallVal = np.array([])\n",
    "    \n",
    "    #\n",
    "    for i in range(num):\n",
    "        #identify each cluster\n",
    "        idx = np.where(flatCluster ==i )\n",
    "        \n",
    "        #Find min and max values of each cluster\n",
    "        minS[i] = min(flatSpectrogram[idx])\n",
    "        maxS[i] = max(flatSpectrogram[idx])\n",
    "        \n",
    "        #Store the min value, so we can order the clusters according to the corresponding value\n",
    "        smallVal = np.append(smallVal, minS[i])\n",
    "        \n",
    "    #Create buffer that will contain the cluster identifier information\n",
    "    returnCluster = np.zeros(flatCluster.shape)\n",
    "    \n",
    "    #Fill the buffer containing the cluster identifier in ordered shape (min to max)\n",
    "    for ctr, i in enumerate(np.argsort(smallVal)):\n",
    "        idx = np.where(flatCluster == i)\n",
    "        returnCluster[idx] = ctr\n",
    "        \n",
    "\n",
    "    del minS, smallVal, idx\n",
    "    if getGroups:\n",
    "        return returnCluster,maxS\n",
    "    return returnCluster\n",
    "\n",
    "\n",
    "#MISC\n",
    "\n",
    "class Error(Exception):\n",
    "    \"\"\"Base class for exceptions in this module.\"\"\"\n",
    "    \n",
    "    pass"
   ]
  },
  {
   "cell_type": "code",
   "execution_count": 4,
   "metadata": {},
   "outputs": [
    {
     "name": "stdout",
     "output_type": "stream",
     "text": [
      "[0.00266667 0.00733333 0.012      ... 6.984      6.98866667 6.99333333]\n",
      "[    0.      93.75   187.5    281.25   375.     468.75   562.5    656.25\n",
      "   750.     843.75   937.5   1031.25  1125.    1218.75  1312.5   1406.25\n",
      "  1500.    1593.75  1687.5   1781.25  1875.    1968.75  2062.5   2156.25\n",
      "  2250.    2343.75  2437.5   2531.25  2625.    2718.75  2812.5   2906.25\n",
      "  3000.    3093.75  3187.5   3281.25  3375.    3468.75  3562.5   3656.25\n",
      "  3750.    3843.75  3937.5   4031.25  4125.    4218.75  4312.5   4406.25\n",
      "  4500.    4593.75  4687.5   4781.25  4875.    4968.75  5062.5   5156.25\n",
      "  5250.    5343.75  5437.5   5531.25  5625.    5718.75  5812.5   5906.25\n",
      "  6000.    6093.75  6187.5   6281.25  6375.    6468.75  6562.5   6656.25\n",
      "  6750.    6843.75  6937.5   7031.25  7125.    7218.75  7312.5   7406.25\n",
      "  7500.    7593.75  7687.5   7781.25  7875.    7968.75  8062.5   8156.25\n",
      "  8250.    8343.75  8437.5   8531.25  8625.    8718.75  8812.5   8906.25\n",
      "  9000.    9093.75  9187.5   9281.25  9375.    9468.75  9562.5   9656.25\n",
      "  9750.    9843.75  9937.5  10031.25 10125.   10218.75 10312.5  10406.25\n",
      " 10500.   10593.75 10687.5  10781.25 10875.   10968.75 11062.5  11156.25\n",
      " 11250.   11343.75 11437.5  11531.25 11625.   11718.75 11812.5  11906.25\n",
      " 12000.   12093.75 12187.5  12281.25 12375.   12468.75 12562.5  12656.25\n",
      " 12750.   12843.75 12937.5  13031.25 13125.   13218.75 13312.5  13406.25\n",
      " 13500.   13593.75 13687.5  13781.25 13875.   13968.75 14062.5  14156.25\n",
      " 14250.   14343.75 14437.5  14531.25 14625.   14718.75 14812.5  14906.25\n",
      " 15000.   15093.75 15187.5  15281.25 15375.   15468.75 15562.5  15656.25\n",
      " 15750.   15843.75 15937.5  16031.25 16125.   16218.75 16312.5  16406.25\n",
      " 16500.   16593.75 16687.5  16781.25 16875.   16968.75 17062.5  17156.25\n",
      " 17250.   17343.75 17437.5  17531.25 17625.   17718.75 17812.5  17906.25\n",
      " 18000.   18093.75 18187.5  18281.25 18375.   18468.75 18562.5  18656.25\n",
      " 18750.   18843.75 18937.5  19031.25 19125.   19218.75 19312.5  19406.25\n",
      " 19500.   19593.75 19687.5  19781.25 19875.   19968.75 20062.5  20156.25\n",
      " 20250.   20343.75 20437.5  20531.25 20625.   20718.75 20812.5  20906.25\n",
      " 21000.   21093.75 21187.5  21281.25 21375.   21468.75 21562.5  21656.25\n",
      " 21750.   21843.75 21937.5  22031.25 22125.   22218.75 22312.5  22406.25\n",
      " 22500.   22593.75 22687.5  22781.25 22875.   22968.75 23062.5  23156.25\n",
      " 23250.   23343.75 23437.5  23531.25 23625.   23718.75 23812.5  23906.25\n",
      " 24000.  ]\n",
      "Spectrogram calculation time: 0.04237079620361328 seconds\n"
     ]
    },
    {
     "data": {
      "image/png": "[encoded data removed]",
      "text/plain": [
       "<Figure size 800x400 with 2 Axes>"
      ]
     },
     "metadata": {},
     "output_type": "display_data"
    }
   ],
   "source": [
    "#audio file path\n",
    "path = \"cut_filtered/03-10-3022_30_38_28.0_35.0_med|high_10800_19200.wav\"\n",
    "\n",
    "# open the file\n",
    "\n",
    "maxFreqForInterval = 13687.5\n",
    "\n",
    "#Get spectrogram data\n",
    "calculateSpecT = time.time()\n",
    "t,freq,spec = specInfo(path)\n",
    "print(t)\n",
    "print(freq)\n",
    "\n",
    "# not used\n",
    "frequencyLimit = ((np.abs(freq - maxFreqForInterval)).argmin()+1)\n",
    "\n",
    "\n",
    "print(\"Spectrogram calculation time:\", time.time()- calculateSpecT, \"seconds\")#outputs spectrogram calculation time\n",
    "#Plot spectrogram dataspecInfo\n",
    "plotModSpecSimple(t,freq,spec)"
   ]
  },
  {
   "cell_type": "code",
   "execution_count": 5,
   "metadata": {},
   "outputs": [],
   "source": [
    "dataDescription = pd.read_csv(\"data.csv\") \n",
    "dataDescription.head()\n",
    "# remove the first row and save it in a new variable\n",
    "firstRow = dataDescription.iloc[0]\n",
    "dataDescription.drop(0, inplace=True)"
   ]
  },
  {
   "cell_type": "code",
   "execution_count": 6,
   "metadata": {},
   "outputs": [
    {
     "name": "stdout",
     "output_type": "stream",
     "text": [
      "19200\n",
      "23000\n",
      "0\n",
      "7\n"
     ]
    }
   ],
   "source": [
    "MarkIndex = 0\n",
    "# file = \n",
    "minimumFrequency = 19200\n",
    "maximumFreqeuency = 23000\n",
    "startTime = 0\n",
    "endTime = 7\n",
    "durationTime = 3220\n",
    "# split the file into 7 seconds\n",
    "# dictionary with 8 keys\n",
    "dic = {}\n",
    "# for i in range(8):\n",
    "#     # get minimum frequency, maximum frequency, start time, end time\n",
    "#     dic[i] = getMarcaFromSpectrogram(t, freq, spec, minimumFrequency, maximumFreqeuency, startTime, endTime, 2760) \n",
    "#     startTime += 7\n",
    "#     endTime += 7\n",
    "#     minimumFrequency += maximumFreqeuency\n",
    "\n",
    "\n",
    "\n",
    "# print(file)\n",
    "print(minimumFrequency)\n",
    "print(maximumFreqeuency)\n",
    "print(startTime)\n",
    "print(endTime)\n",
    "\n",
    "#Set a default value for Duration of mark \n",
    "# revisar\n",
    "#milliseconds???????????????????????   \n"
   ]
  },
  {
   "cell_type": "code",
   "execution_count": 7,
   "metadata": {},
   "outputs": [
    {
     "data": {
      "image/png": "[encoded data removed]",
      "text/plain": [
       "<Figure size 800x400 with 2 Axes>"
      ]
     },
     "metadata": {},
     "output_type": "display_data"
    }
   ],
   "source": [
    "#Get spectrogram information of mark\n",
    "tSelect, freqSelect, specSelect, minFreq, maxFreq = getMarcaFromSpectrogram(t,freq,spec, minimumFrequency,maximumFreqeuency, startTime,endTime, durationTime)\n",
    "\n",
    "\n",
    "\n",
    "# print(freqSelect)\n",
    "# print(specSelect)\n",
    "\n",
    "#Plot the mark\n",
    "\n",
    "\n",
    "plotModSpecSimple(tSelect, freqSelect, specSelect, ylab = \"Frequency (Hz)\", xlab = \"Time (s)\")"
   ]
  },
  {
   "cell_type": "code",
   "execution_count": 8,
   "metadata": {},
   "outputs": [],
   "source": [
    "#Define clusters and kmeans cluster instace\n",
    "clusters = 6\n",
    "kCluster = KMeans(clusters)\n",
    "\n",
    "#First we must flatten the data to cluster it (1 dimensional vector)\n",
    "specSelectFlatten = specSelect.flatten().reshape(-1,1)"
   ]
  },
  {
   "cell_type": "code",
   "execution_count": 9,
   "metadata": {},
   "outputs": [
    {
     "name": "stdout",
     "output_type": "stream",
     "text": [
      "Y axis in this plot is a density proportion of the count for each bin in magnitude values\n"
     ]
    },
    {
     "data": {
      "image/png": "[encoded data removed]",
      "text/plain": [
       "<Figure size 640x480 with 1 Axes>"
      ]
     },
     "metadata": {},
     "output_type": "display_data"
    }
   ],
   "source": [
    "#Plot a histogram of magnitude values\n",
    "ax = sns.distplot(specSelectFlatten, hist = True, norm_hist=False, axlabel= \"Magnitude Value\")\n",
    "ax.set_ylabel(\"counting density\")\n",
    "print(\"Y axis in this plot is a density proportion of the count for each bin in magnitude values\")"
   ]
  },
  {
   "cell_type": "code",
   "execution_count": 10,
   "metadata": {},
   "outputs": [],
   "source": [
    "\n",
    "#Cluster the magnitude values\n",
    "#The returning vector will contain the cluster group associated to each entry \n",
    "specSelectFlattenCluster = kCluster.fit_predict(specSelectFlatten)"
   ]
  },
  {
   "cell_type": "code",
   "execution_count": 11,
   "metadata": {},
   "outputs": [],
   "source": [
    "#Make sure we order labels based on cluster's magnitude\n",
    "specSelectFlattenCluster, clusterMax = orderClusters(specSelectFlattenCluster, specSelectFlatten, clusters,  True)"
   ]
  },
  {
   "cell_type": "code",
   "execution_count": 12,
   "metadata": {},
   "outputs": [
    {
     "data": {
      "text/plain": [
       "Text(0.5, 0, 'Magnitude values')"
      ]
     },
     "execution_count": 12,
     "metadata": {},
     "output_type": "execute_result"
    },
    {
     "data": {
      "image/png": "[encoded data removed]",
      "text/plain": [
       "<Figure size 640x480 with 1 Axes>"
      ]
     },
     "metadata": {},
     "output_type": "display_data"
    }
   ],
   "source": [
    "#Representation of clusters, between each marker is a cluster group\n",
    "plt.scatter(np.concatenate(clusterMax), [[0]*clusters], marker = \"1\")\n",
    "plt.xlabel(\"Magnitude values\")\n"
   ]
  },
  {
   "cell_type": "code",
   "execution_count": 13,
   "metadata": {},
   "outputs": [
    {
     "data": {
      "image/png": "[encoded data removed]",
      "text/plain": [
       "<Figure size 800x400 with 2 Axes>"
      ]
     },
     "metadata": {},
     "output_type": "display_data"
    }
   ],
   "source": [
    "#Display how mark looks like after clutering magnitude values\n",
    "plotModSpecSimple(tSelect,freqSelect , specSelectFlattenCluster.reshape(specSelect.shape))"
   ]
  },
  {
   "cell_type": "code",
   "execution_count": 14,
   "metadata": {},
   "outputs": [
    {
     "data": {
      "image/png": "[encoded data removed]",
      "text/plain": [
       "<Figure size 800x400 with 2 Axes>"
      ]
     },
     "metadata": {},
     "output_type": "display_data"
    }
   ],
   "source": [
    "#Prepare data\n",
    "#Set all values other than 0 to 1 \n",
    "correctingIdx = np.where(specSelectFlattenCluster != 0)[0]\n",
    "copySelectFlattenCluster = specSelectFlattenCluster\n",
    "specSelectFlattenCluster = np.zeros(specSelectFlatten.shape)\n",
    "\n",
    "#Set all values not equal to 0 to 1. \n",
    "specSelectFlattenCluster[correctingIdx] = 1\n",
    "plotModSpecSimple(tSelect,freqSelect , specSelectFlattenCluster.reshape(specSelect.shape),  ylab = \"Frequency (Hz)\", xlab = \"Time (s)\")"
   ]
  },
  {
   "cell_type": "code",
   "execution_count": 15,
   "metadata": {},
   "outputs": [],
   "source": [
    "#Get coordinates of relevant points (Coordinates of those values containing 1)\n",
    "yIndeces, xIndeces = np.where(specSelectFlattenCluster.reshape(specSelect.shape) ==  1)\n",
    "coordinatesArray = np.array([yIndeces, xIndeces]).T\n"
   ]
  },
  {
   "cell_type": "code",
   "execution_count": 16,
   "metadata": {},
   "outputs": [],
   "source": [
    "#Define DBScan instace\n",
    "DBScan = DBSCAN(eps = 2, min_samples = 8)"
   ]
  },
  {
   "cell_type": "code",
   "execution_count": 17,
   "metadata": {},
   "outputs": [
    {
     "data": {
      "image/png": "[encoded data removed]",
      "text/plain": [
       "<Figure size 800x400 with 2 Axes>"
      ]
     },
     "metadata": {},
     "output_type": "display_data"
    }
   ],
   "source": [
    "detectedGroups = DBScan.fit_predict(coordinatesArray)\n",
    "\n",
    "#Get min and max groups (if min = -1, some points where not clustered) max will contain the number of cluster groups found\n",
    "minIndex = np.min(detectedGroups)\n",
    "\n",
    "\n",
    "#In order to have a range from 0 to 1, add abs value of minIndex ( if min index = 0 , it will remain the same\n",
    "#if minIndex == -1, it will relocate range from 0 to maxIndex+1)\n",
    "copySelectFlattenCluster[correctingIdx] = detectedGroups + abs(minIndex)\n",
    "detectedGroups += abs(minIndex)\n",
    "plotModSpecSimple(tSelect,freqSelect,copySelectFlattenCluster.reshape(specSelect.shape), xlab = \"Time (s)\", ylab = \"Frequency (Hz)\")\n",
    "\n",
    "displayGroups = np.zeros(specSelect.shape)\n",
    "\n",
    "for ctr, i in enumerate(coordinatesArray):\n",
    "    displayGroups[int(i[0])][ int(i[1])] = detectedGroups[ctr]\n",
    "maxIndex = np.max(detectedGroups)"
   ]
  },
  {
   "cell_type": "code",
   "execution_count": 18,
   "metadata": {},
   "outputs": [
    {
     "data": {
      "image/png": "[encoded data removed]",
      "text/plain": [
       "<Figure size 800x400 with 2 Axes>"
      ]
     },
     "metadata": {},
     "output_type": "display_data"
    }
   ],
   "source": [
    "rect = []\n",
    "for speechValue in range(1, maxIndex+1):\n",
    "    if len(np.where(detectedGroups== speechValue)[0]) != 0 :\n",
    "        \n",
    "        #Get min and max time and frequency values of the identified cluster groups\n",
    "        minf = np.min(np.where(displayGroups == speechValue)[0])\n",
    "        maxf = np.max(np.where(displayGroups == speechValue)[0])\n",
    "        startT = np.min(np.where(displayGroups == speechValue)[1])\n",
    "        endT = np.max(np.where(displayGroups == speechValue)[1])\n",
    "\n",
    "        #Create bounding box and add to boxes to be displayed\n",
    "        rect.append(patches.Rectangle((tSelect[startT],freqSelect[minf]),tSelect[endT]-tSelect[startT],freqSelect[maxf]-freqSelect[minf],linewidth=1,edgecolor='g',facecolor='none'))\n",
    "\n",
    "#Display marc with bounding boxes around the cluster groups found\n",
    "plotModSpecSimple(tSelect,freqSelect,displayGroups, xlab = \"Time (s)\", ylab = \"Frequency (Hz)\", title = \"Detected Clusters\", patch = rect)\n"
   ]
  },
  {
   "cell_type": "code",
   "execution_count": 19,
   "metadata": {},
   "outputs": [
    {
     "name": "stdout",
     "output_type": "stream",
     "text": [
      "6\n"
     ]
    }
   ],
   "source": [
    "#Define training model parameters\n",
    "#These two parameters are used to define how many time steps and frequencies will the training model have\n",
    "timeInterval = 469\n",
    "frequencyInterval = 86\n",
    "print(maxIndex)\n",
    "\n",
    "for speechValue in range(1, maxIndex+1):\n",
    "    speechIndexes = np.where(detectedGroups == speechValue)[0]\n",
    "\n",
    "    minVal = np.min(coordinatesArray[speechIndexes], axis = 0)[1]\n",
    "\n",
    "    # print('hello')\n",
    "    trainMatrix = np.zeros((frequencyInterval ,timeInterval))\n",
    "\n",
    "    for ctr, i in enumerate(coordinatesArray[speechIndexes]):\n",
    "        if i[1] - minVal < timeInterval:\n",
    "            try:\n",
    "                trainMatrix[int(i[0])+minFreq][ int(i[1])-minVal] =1\n",
    "            except:\n",
    "                pass\n",
    "    # X = np.linspace(0, t[timeInterval], timeInterval+1)\n",
    "    # Y = np.linspace(0, freq[frequencyInterval], frequencyInterval+1)\n",
    "    # print(t[0:timeInterval].shape)\n",
    "    # print(t.shape)\n",
    "    # print(t)\n",
    "    # print(trainMatrix.shape)\n",
    "\n",
    "    # plotModSpecSimple(X,Y,trainMatrix, xlab = \"Time (s)\", ylab = \"Frequency (Hz)\")\n",
    "    # plotModSpecSitmple(t[0:timeInterval], freq[0:frequencyInterval],trainMatrix, xlab = \"Time (s)\", ylab = \"Frequency (Hz)\")    "
   ]
  },
  {
   "cell_type": "code",
   "execution_count": 20,
   "metadata": {},
   "outputs": [
    {
     "data": {
      "text/plain": [
       "(86, 469)"
      ]
     },
     "execution_count": 20,
     "metadata": {},
     "output_type": "execute_result"
    }
   ],
   "source": [
    "trainMatrix.shape"
   ]
  },
  {
   "cell_type": "code",
   "execution_count": 21,
   "metadata": {},
   "outputs": [
    {
     "name": "stderr",
     "output_type": "stream",
     "text": [
      "2023-05-04 15:20:34.489283: W tensorflow/stream_executor/platform/default/dso_loader.cc:64] Could not load dynamic library 'libcuda.so.1'; dlerror: libcuda.so.1: cannot open shared object file: No such file or directory\n",
      "2023-05-04 15:20:34.489312: W tensorflow/stream_executor/cuda/cuda_driver.cc:269] failed call to cuInit: UNKNOWN ERROR (303)\n",
      "2023-05-04 15:20:34.489330: I tensorflow/stream_executor/cuda/cuda_diagnostics.cc:156] kernel driver does not appear to be running on this host (Ursa): /proc/driver/nvidia/version does not exist\n",
      "2023-05-04 15:20:34.489562: I tensorflow/core/platform/cpu_feature_guard.cc:193] This TensorFlow binary is optimized with oneAPI Deep Neural Network Library (oneDNN) to use the following CPU instructions in performance-critical operations:  AVX2 AVX512F AVX512_VNNI FMA\n",
      "To enable them in other operations, rebuild TensorFlow with the appropriate compiler flags.\n"
     ]
    }
   ],
   "source": [
    "# load the model from disk\n",
    "from keras.models import load_model\n",
    "\n",
    "model = load_model('kaggle_model_mar16.h5')"
   ]
  },
  {
   "cell_type": "code",
   "execution_count": 22,
   "metadata": {},
   "outputs": [
    {
     "name": "stdout",
     "output_type": "stream",
     "text": [
      "(86, 469)\n",
      "1/1 [==============================] - 0s 118ms/step\n"
     ]
    }
   ],
   "source": [
    "# predict trainMatrix\n",
    "print(trainMatrix.shape)\n",
    "prediction = model.predict(trainMatrix.reshape(1,86,469))\n",
    "# prediction = model.predict(trainMatrix)\n",
    "\n",
    "# # print prediction\n",
    "# print(prediction)\n",
    "\n",
    "\n",
    "# print the label the model predicted\n",
    "# print(np.argmax(prediction))\n",
    "\n",
    "# test with noise, and cut the arbimon ones into 7 splts as well. See if it still works correctly\n",
    "# see if it can detect the noise, and if it can detect the arbimon ones correctly\n",
    "# get the whole vector, collect that data and see if theres two\n",
    "#  configure it as a csv and have probability columns\n",
    "\n",
    "\n",
    "# check if I can run jupyter, on terminal without screen.\n",
    "\n"
   ]
  },
  {
   "cell_type": "code",
   "execution_count": 23,
   "metadata": {},
   "outputs": [],
   "source": [
    "# create csv\n",
    "name = \"results_diff.csv\"\n",
    "columns = [\"filename\", \"label_0_prob\", \"label_1_prob\", \"label_2_prob\", \"label_3_prob\", \"label_4_prob\", \"label_5_prob\", \"label_6_prob\", \"predicted_label\"]\n",
    "df = pd.DataFrame(columns=columns)\n",
    "\n",
    "# write the data to csv\n",
    "\n",
    "item = {\n",
    "    \"filename\": path,\n",
    "    \"label_1_prob\": prediction[0][0],\n",
    "    \"label_2_prob\": prediction[0][1],\n",
    "    \"label_3_prob\": prediction[0][2],\n",
    "    \"label_4_prob\": prediction[0][3],\n",
    "    \"label_5_prob\": prediction[0][4],\n",
    "    \"label_6_prob\": prediction[0][5],\n",
    "    \"label_7_prob\": prediction[0][6],\n",
    "    \"predicted_label\": np.argmax(prediction)\n",
    "}\n",
    "\n",
    "# df = pd.concat([df, pd.DataFrame([item])], ignore_index=True)\n",
    "# df.to_csv(name, index=False)\n"
   ]
  },
  {
   "attachments": {},
   "cell_type": "markdown",
   "metadata": {},
   "source": [
    "Funcion para crear el dataset"
   ]
  },
  {
   "cell_type": "code",
   "execution_count": null,
   "metadata": {},
   "outputs": [],
   "source": []
  },
  {
   "cell_type": "code",
   "execution_count": 24,
   "metadata": {},
   "outputs": [],
   "source": [
    "def transformData(datadir, timeIndex, df):\n",
    "    # loop thru directory\n",
    "    i = 0\n",
    "    for filename in os.listdir(datadir):\n",
    "        path = os.path.join(datadir, filename)\n",
    "        path = str(path)\n",
    "        t,freq,spec = specInfo(path)\n",
    "        minimumFrequency = filename.split('_')[6]\n",
    "        maximumFreqeuency = filename.split('_')[7].split('.')[0]\n",
    "        startTime = 0\n",
    "        endTime = 7\n",
    "\n",
    "        tSelect, freqSelect, specSelect, minFreq, maxFreq= getMarcaFromSpectrogram(t,freq,spec, minimumFrequency,maximumFreqeuency, startTime,endTime, 3220)\n",
    "#                 return 0 \n",
    "\n",
    "        #Cluster noise\n",
    "        specSelectFlatten = specSelect.flatten().reshape(-1,1)\n",
    "\n",
    "        specSelectFlattenCluster = kCluster.fit_predict(specSelectFlatten)\n",
    "        specSelectFlattenCluster, clusterMax = orderClusters(specSelectFlattenCluster, specSelectFlatten, 6,  True)\n",
    "\n",
    "\n",
    "        correctingIdx = np.where(specSelectFlattenCluster != 0)[0]\n",
    "        copySelectFlattenCluster = specSelectFlattenCluster\n",
    "        specSelectFlattenCluster = np.zeros(specSelectFlatten.shape)\n",
    "\n",
    "        #Set all values not equal to 0 to 1. \n",
    "        specSelectFlattenCluster[correctingIdx] = 1\n",
    "        #plotModSpecSimple(tSelect,freqSelect , specSelectFlattenCluster.reshape(specSelect.shape),  ylab = \"Frequency (Hz)\", xlab = \"Time (s)\")\n",
    "\n",
    "        #Get coordinates of relevant points (Coordinates of those values containing 1)\n",
    "        yIndeces, xIndeces = np.where(specSelectFlattenCluster.reshape(specSelect.shape) ==  1)\n",
    "        coordinatesArray = np.array([yIndeces, xIndeces]).T\n",
    "\n",
    "        detectedGroups = DBScan.fit_predict(coordinatesArray)\n",
    "\n",
    "        #Get min and max groups (if min = -1, some points where not clustered) max will contain the number of cluster groups found\n",
    "        minIndex = np.min(detectedGroups)\n",
    "        detectedGroups += abs(minIndex)\n",
    "        maxIndex = np.max(detectedGroups)\n",
    "\n",
    "        trainMatrix = np.zeros((frequencyInterval ,timeIndex), dtype = \"int8\")\n",
    "\n",
    "        for speechValue in range(1, maxIndex+1):\n",
    "            speechIndexes = np.where(detectedGroups == speechValue)[0]\n",
    "\n",
    "            minVal = np.min(coordinatesArray[speechIndexes], axis = 0)[1]\n",
    "\n",
    "            trainMatrix[:,:] = 0\n",
    "\n",
    "            for ctr, i in enumerate(coordinatesArray[speechIndexes]):\n",
    "                if i[1] - minVal < timeInterval:\n",
    "                    try:\n",
    "                        trainMatrix[int(i[0])+minFreq][ int(i[1])-minVal] =1\n",
    "                    except:\n",
    "                        pass\n",
    "        # predict trainMatrix\n",
    "        # print(trainMatrix.shape)\n",
    "        prediction = model.predict(trainMatrix.reshape(1,86,469))\n",
    "        item = {\n",
    "            \"filename\": os.path.join(datadir, filename),\n",
    "            \"label_0_prob\": prediction[0][0],\n",
    "            \"label_1_prob\": prediction[0][1],\n",
    "            \"label_2_prob\": prediction[0][2],\n",
    "            \"label_3_prob\": prediction[0][3],\n",
    "            \"label_4_prob\": prediction[0][4],\n",
    "            \"label_5_prob\": prediction[0][5],\n",
    "            \"label_6_prob\": prediction[0][6],\n",
    "            \"predicted_label\": np.argmax(prediction)\n",
    "        }\n",
    "        df = pd.concat([df, pd.DataFrame([item])], ignore_index=True)\n",
    "\n",
    "    df.to_csv(name, index=False)\n",
    "    # grab the data from the csv\n",
    "    df = pd.read_csv(name)\n",
    "    # get all the numbers in the mode of the predicted label\n",
    "    mode = df[\"predicted_label\"].mode()\n",
    "    # get all the unique values in the predicted label\n",
    "    unique = df[\"predicted_label\"].unique()\n",
    "\n",
    "    # print the labels that are the most common\n",
    "    print('the most common labels are: ', mode)\n",
    "    # print the unique labels\n",
    "    print('the unique labels are: ', unique)\n"
   ]
  },
  {
   "cell_type": "code",
   "execution_count": 25,
   "metadata": {},
   "outputs": [
    {
     "name": "stdout",
     "output_type": "stream",
     "text": [
      "1/1 [==============================] - 0s 63ms/step\n",
      "1/1 [==============================] - 0s 17ms/step\n",
      "1/1 [==============================] - 0s 18ms/step\n",
      "1/1 [==============================] - 0s 18ms/step\n",
      "1/1 [==============================] - 0s 17ms/step\n",
      "1/1 [==============================] - 0s 18ms/step\n",
      "1/1 [==============================] - 0s 18ms/step\n",
      "1/1 [==============================] - 0s 20ms/step\n",
      "1/1 [==============================] - 0s 19ms/step\n",
      "1/1 [==============================] - 0s 18ms/step\n",
      "1/1 [==============================] - 0s 19ms/step\n",
      "1/1 [==============================] - 0s 19ms/step\n",
      "1/1 [==============================] - 0s 18ms/step\n",
      "1/1 [==============================] - 0s 18ms/step\n",
      "1/1 [==============================] - 0s 17ms/step\n",
      "1/1 [==============================] - 0s 18ms/step\n",
      "1/1 [==============================] - 0s 17ms/step\n",
      "1/1 [==============================] - 0s 17ms/step\n",
      "1/1 [==============================] - 0s 17ms/step\n",
      "1/1 [==============================] - 0s 18ms/step\n",
      "1/1 [==============================] - 0s 18ms/step\n",
      "1/1 [==============================] - 0s 19ms/step\n",
      "1/1 [==============================] - 0s 17ms/step\n",
      "1/1 [==============================] - 0s 18ms/step\n",
      "1/1 [==============================] - 0s 16ms/step\n",
      "1/1 [==============================] - 0s 16ms/step\n",
      "1/1 [==============================] - 0s 18ms/step\n",
      "1/1 [==============================] - 0s 17ms/step\n",
      "1/1 [==============================] - 0s 20ms/step\n",
      "1/1 [==============================] - 0s 18ms/step\n",
      "1/1 [==============================] - 0s 17ms/step\n",
      "1/1 [==============================] - 0s 18ms/step\n",
      "1/1 [==============================] - 0s 17ms/step\n",
      "1/1 [==============================] - 0s 17ms/step\n",
      "1/1 [==============================] - 0s 17ms/step\n",
      "1/1 [==============================] - 0s 20ms/step\n",
      "the most common labels are:  0    2\n",
      "Name: predicted_label, dtype: int64\n",
      "the unique labels are:  [2 4 0]\n"
     ]
    }
   ],
   "source": [
    "audio_dir = 'cut_filtered'\n",
    "transformData(audio_dir, timeIndex= 469, df = df)"
   ]
  },
  {
   "attachments": {},
   "cell_type": "markdown",
   "metadata": {},
   "source": [
    "Set up random que no se que hace"
   ]
  },
  {
   "attachments": {},
   "cell_type": "markdown",
   "metadata": {},
   "source": [
    "Get amount of labels"
   ]
  },
  {
   "attachments": {},
   "cell_type": "markdown",
   "metadata": {},
   "source": [
    "Get amount of samples"
   ]
  }
 ],
 "metadata": {
  "kernelspec": {
   "display_name": "Python 3.10.6 ('investigacion': venv)",
   "language": "python",
   "name": "python3"
  },
  "language_info": {
   "codemirror_mode": {
    "name": "ipython",
    "version": 3
   },
   "file_extension": ".py",
   "mimetype": "text/x-python",
   "name": "python",
   "nbconvert_exporter": "python",
   "pygments_lexer": "ipython3",
   "version": "3.10.6"
  },
  "orig_nbformat": 4,
  "vscode": {
   "interpreter": {
    "hash": "5f6ec1abbedff62226ac7b112b976be826434302a90e08de3d0a2a24a58f0a05"
   }
  }
 },
 "nbformat": 4,
 "nbformat_minor": 2
}
