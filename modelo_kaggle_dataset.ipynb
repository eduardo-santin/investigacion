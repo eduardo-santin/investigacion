{
 "cells": [
  {
   "cell_type": "markdown",
   "metadata": {},
   "source": [
    "# Imports"
   ]
  },
  {
   "cell_type": "code",
   "execution_count": 25,
   "metadata": {},
   "outputs": [],
   "source": [
    "#Import cluster algorithms\n",
    "from sklearn.cluster import KMeans, DBSCAN\n",
    "\n",
    "#Import classifiers\n",
    "from sklearn.svm import LinearSVC\n",
    "from sklearn.svm import SVC\n",
    "from sklearn.ensemble import RandomForestClassifier\n",
    "from sklearn.naive_bayes import GaussianNB\n",
    "from sklearn.discriminant_analysis import LinearDiscriminantAnalysis\n",
    "from sklearn.ensemble import VotingClassifier\n",
    "from sklearn import model_selection as mod_selec\n",
    "from sklearn.model_selection import KFold\n",
    "from sklearn.preprocessing import OneHotEncoder\n",
    "from sklearn.metrics import accuracy_score, confusion_matrix, classification_report\n",
    "\n",
    "#Import \n",
    "import tensorflow as tf\n",
    "\n",
    "\n",
    "#Import libraries to deal with data\n",
    "import numpy as np\n",
    "import pandas as pd\n",
    "import pickle\n",
    "\n",
    "\n",
    "#Process data libraries\n",
    "from skimage import io\n",
    "from scipy import signal\n",
    "import pylab, wave\n",
    "from scipy.io import wavfile\n",
    "\n",
    "#Miscelanous\n",
    "import math\n",
    "import time\n",
    "import os\n",
    "import warnings\n",
    "\n",
    "\n",
    "#Graphs and show images\n",
    "import itertools\n",
    "import seaborn as sns\n",
    "import matplotlib.pyplot as plt\n",
    "import matplotlib.patches as patches\n",
    "\n",
    "\n",
    "\n",
    "np.random.seed(10)\n",
    "np.set_printoptions(suppress=True)\n",
    "warnings.filterwarnings('ignore')\n",
    "%matplotlib inline \n"
   ]
  },
  {
   "cell_type": "markdown",
   "metadata": {},
   "source": [
    "# Set up el dataset y las funciones"
   ]
  },
  {
   "cell_type": "markdown",
   "metadata": {},
   "source": [
    "Dataset"
   ]
  },
  {
   "cell_type": "code",
   "execution_count": 26,
   "metadata": {},
   "outputs": [],
   "source": [
    "dataset_path = os.path.abspath('kaggle_audios')"
   ]
  },
  {
   "cell_type": "markdown",
   "metadata": {},
   "source": [
    "Funciones de spectograma"
   ]
  },
  {
   "cell_type": "code",
   "execution_count": 27,
   "metadata": {},
   "outputs": [],
   "source": [
    "##############################################\n",
    "#                                            #\n",
    "#                Spectrogram                 #\n",
    "#                                            #\n",
    "##############################################\n",
    "#Function to retrieve data from wav files\n",
    "def wavInfo(rec_file):\n",
    "    sample_rate, samples = wavfile.read(rec_file)\n",
    "    channels  = wave.open(rec_file, 'r').getnchannels()\n",
    "    return sample_rate, samples, channels\n",
    "\n",
    "\n",
    "#Function to calcualte spectrogram\n",
    "def specInfo(rec_file):\n",
    "    sampleRate, samples, channels = wavInfo(rec_file)\n",
    "    \n",
    "    #Solution for one channels\n",
    "    if(channels == 1):\n",
    "        freqs, t, spectrum  = signal.spectrogram(samples[:], nfft=512, window=\"hann\", fs=sampleRate)\n",
    "        \n",
    "    #Solution for two channels\n",
    "    elif(channels == 2):\n",
    "        freqs, t, spetctrum = signal.spectrogram(samples[:, 1], nfft=512, window=\"hann\", fs=sampleRate)\n",
    "        \n",
    "        spectrum = spectrum.astype(\"float64\") \n",
    "    return t,freqs,spectrum\n",
    "\n",
    "##############################################\n",
    "#                                            #\n",
    "#              Image/Plotting                #\n",
    "#                                            #\n",
    "##############################################\n",
    "def plotModSpecSimple(times, freqs, specMod, figsize = (8,4), xlab = \"\", ylab = \"\", title = \"\", colorbar = True, patch = None, cmap = \"Purples\"):\n",
    "    \"\"\" \n",
    "        Function to plotspectrograms and bounding boxes in spectrograms\n",
    "        Input:\n",
    "            times - np array containing time steps (shape X,1)\n",
    "            freqs - np array containing frequency steps (shape Y,1)\n",
    "            specMod - np array containing magnitude values on each time step for each frequency (shape - (Y,X))\n",
    "            figsize - list containing width and height size for the figure\n",
    "            xlab - string containining label for x axis\n",
    "            ylab - string contaiing label for y axis\n",
    "            title - string containing title for the graph\n",
    "            colorbar - bool value to decide whether graph should contain colorbar graph or not\n",
    "            patch - array containing matplotlib.patches to be applied to the plot\n",
    "            cmap - cmap for color displaying\n",
    "    \"\"\"\n",
    "    \n",
    "    \n",
    "    fig, ax = pylab.subplots(1,1, figsize = figsize)\n",
    "    ax.set_facecolor(\"grey\")\n",
    "    im = ax.pcolormesh(times, freqs,(specMod), cmap= cmap)\n",
    "    \n",
    "    #Plot spectrogram information given\n",
    "    ax.pcolormesh(times, freqs,(specMod), cmap= cmap)\n",
    "    \n",
    "    #Add all patches to figure, if any\n",
    "    if (patch !=None ):\n",
    "        for i in patch:\n",
    "            ax.add_patch(i)\n",
    "    \n",
    "    #Set x axis label\n",
    "    ax.set_xlabel(xlab)\n",
    "    \n",
    "    #Set y axis label\n",
    "    ax.set_ylabel(ylab)\n",
    "    \n",
    "    #Set title label\n",
    "    ax.set_title(title)\n",
    "    \n",
    "    #Set colorbar if wanted\n",
    "    if(colorbar):\n",
    "        fig.colorbar(im, ax=ax)\n",
    "    \n",
    "    \n",
    "def plot_confusion_matrix(cm, classes,\n",
    "                          normalize=False,\n",
    "                          title='Confusion matrix',\n",
    "                          cmap=plt.cm.Blues):\n",
    "    \"\"\"\n",
    "    This function prints and plots the confusion matrix.\n",
    "    Normalization can be applied by setting `normalize=True`.\n",
    "    \"\"\"\n",
    "    if normalize:\n",
    "        cm = cm.astype('float') / cm.sum(axis=1)[:, np.newaxis]\n",
    "        print(\"Normalized confusion matrix\")\n",
    "    else:\n",
    "        print('Confusion matrix, without normalization')\n",
    "\n",
    "    print(cm)\n",
    "\n",
    "    plt.imshow(cm, interpolation='nearest', cmap=cmap)\n",
    "    plt.title(title)\n",
    "    plt.colorbar()\n",
    "    tick_marks = np.arange(len(classes))\n",
    "    plt.xticks(tick_marks, classes, rotation=45)\n",
    "    plt.yticks(tick_marks, classes)\n",
    "\n",
    "    fmt = '.2f' if normalize else 'd'\n",
    "    thresh = cm.max() / 2.\n",
    "    for i, j in itertools.product(range(cm.shape[0]), range(cm.shape[1])):\n",
    "        plt.text(j, i, format(cm[i, j], fmt),\n",
    "                 horizontalalignment=\"center\",\n",
    "                 color=\"white\" if cm[i, j] > thresh else \"black\")\n",
    "\n",
    "    plt.tight_layout()\n",
    "    plt.ylabel('True label')\n",
    "    plt.xlabel('Predicted label')\n",
    "\n",
    "##############################################\n",
    "#                                            #\n",
    "#              Data processing               #\n",
    "#                                            #\n",
    "##############################################\n",
    "\n",
    "\n",
    "\n",
    "def Filter(array, Min, Max):\n",
    "    '''Given a Min or Max parameter, find the index in the array that corresponds to the given Min or Max value\n",
    "    #Example  [1,4,7,11], Min:5, Max 8, Output = (1,3)\n",
    "    Input: \n",
    "        array: nparray containing information\n",
    "        min  : float containing the minimum value to be found in array\n",
    "        max  : float containing the maximum value to be found in array\n",
    "    '''\n",
    "    try:\n",
    "        Min = (np.abs(array-Min)).argmin()\n",
    "        Max = (np.abs(array-Max)).argmin()+1\n",
    "    \n",
    "        return Min, Max\n",
    "    \n",
    "    except:\n",
    "        print(\"error: array input is not an nparray\")\n",
    "        \n",
    "        \n",
    "\n",
    "\n",
    "\n",
    "def getMarcaFromSpectrogram(t, freq, spec, minf, maxf, startT, endT, timeIndex):\n",
    "    \n",
    "    #Find index of the time in the array \n",
    "    startI, endI= Filter(t, startT, endT)\n",
    "    \n",
    "    #ind index of the frequencies in the array    \n",
    "    minfreqI, maxfreqI = Filter(freq, minf, maxf)\n",
    "    \n",
    "    \n",
    "    tSelect = t[startI:endI]\n",
    "    freqSelect = freq[minfreqI:maxfreqI]\n",
    "    if endI - startI > timeIndex:\n",
    "        endI = startI+timeIndex\n",
    "        \n",
    "    mags = [spec[minfreqI][startI:endI]]\n",
    "        \n",
    "    for i in range(minfreqI+1, maxfreqI):\n",
    "        mags = mags + [spec[i][startI:endI]]  \n",
    "    specSelect = np.array(mags)\n",
    "    \n",
    "    return tSelect, freqSelect, specSelect, minfreqI, maxfreqI\n",
    "\n",
    "\n",
    "def newSlicing(array, lowerIdx, upperIdx, step):\n",
    "    resultingArray = np.array(array[lowerIdx:upperIdx])\n",
    "    for i in range(upperIdx,len(array)+1,step):\n",
    "        lowerIdx += step\n",
    "        upperIdx+= step\n",
    "        resultingArray = np.concatenate([resultingArray, array[lowerIdx:upperIdx]])\n",
    "\n",
    "    return resultingArray\n",
    "\n",
    "def orderClusters(flatCluster, flatSpectrogram, num, getGroups = False ):\n",
    "    \"\"\"Function to order the clusters according to the magnitude values\n",
    "       Returns a vector containing the indeces of each cluster, where the \n",
    "       indeces identify which cluster is stronger in terms of magnitude(relative to spectrum)\n",
    "    \n",
    "       Input:\n",
    "           flatCluster: Array containing flattened spectrogram's shape with cluster entries\n",
    "           flatSpectrogram\n",
    "    \"\"\"\n",
    "    \n",
    "    minS = [None]*num\n",
    "    maxS = [None]*num\n",
    "    smallVal = np.array([])\n",
    "    \n",
    "    #\n",
    "    for i in range(num):\n",
    "        #identify each cluster\n",
    "        idx = np.where(flatCluster ==i )\n",
    "        \n",
    "        #Find min and max values of each cluster\n",
    "        minS[i] = min(flatSpectrogram[idx])\n",
    "        maxS[i] = max(flatSpectrogram[idx])\n",
    "        \n",
    "        #Store the min value, so we can order the clusters according to the corresponding value\n",
    "        smallVal = np.append(smallVal, minS[i])\n",
    "        \n",
    "    #Create buffer that will contain the cluster identifier information\n",
    "    returnCluster = np.zeros(flatCluster.shape)\n",
    "    \n",
    "    #Fill the buffer containing the cluster identifier in ordered shape (min to max)\n",
    "    for ctr, i in enumerate(np.argsort(smallVal)):\n",
    "        idx = np.where(flatCluster == i)\n",
    "        returnCluster[idx] = ctr\n",
    "        \n",
    "\n",
    "    del minS, smallVal, idx\n",
    "    if getGroups:\n",
    "        return returnCluster,maxS\n",
    "    return returnCluster\n",
    "\n",
    "\n",
    "#MISC\n",
    "\n",
    "class Error(Exception):\n",
    "    \"\"\"Base class for exceptions in this module.\"\"\"\n",
    "    \n",
    "    pass"
   ]
  },
  {
   "cell_type": "code",
   "execution_count": 28,
   "metadata": {},
   "outputs": [
    {
     "name": "stdout",
     "output_type": "stream",
     "text": [
      "[0.00266667 0.00733333 0.012      ... 6.984      6.98866667 6.99333333]\n",
      "1499\n",
      "Spectrogram calculation time: 0.028019428253173828 seconds\n"
     ]
    },
    {
     "data": {
      "image/png": "[encoded data removed]",
      "text/plain": [
       "<Figure size 800x400 with 2 Axes>"
      ]
     },
     "metadata": {},
     "output_type": "display_data"
    }
   ],
   "source": [
    "#audio file path\n",
    "path = \"2fa556c68_14.0_21.0_7.0_med|high_10800_19200.wav\"\n",
    "\n",
    "# open the wav\n",
    "sr, wav = wavfile.read(path)\n",
    "\n",
    "# convert data to int16\n",
    "wav = wav.astype(np.int16)\n",
    "\n",
    "# save the wav file with the same name\n",
    "wavfile.write(path, sr, wav)\n",
    "\n",
    "\n",
    "\n",
    "maxFreqForInterval = 13687.5\n",
    "\n",
    "#Get spectrogram data\n",
    "calculateSpecT = time.time()\n",
    "t,freq,spec = specInfo(path)\n",
    "frequencyLimit = ((np.abs(freq - maxFreqForInterval)).argmin()+1)\n",
    "print(t)\n",
    "print(len(t))\n",
    "print(\"Spectrogram calculation time:\", time.time()- calculateSpecT, \"seconds\")#outputs spectrogram calculation time\n",
    "#Plot spectrogram dataspecInfo\n",
    "plotModSpecSimple(t,freq,spec)"
   ]
  },
  {
   "cell_type": "code",
   "execution_count": 29,
   "metadata": {},
   "outputs": [
    {
     "data": {
      "text/html": [
       "<div>\n",
       "<style scoped>\n",
       "    .dataframe tbody tr th:only-of-type {\n",
       "        vertical-align: middle;\n",
       "    }\n",
       "\n",
       "    .dataframe tbody tr th {\n",
       "        vertical-align: top;\n",
       "    }\n",
       "\n",
       "    .dataframe thead th {\n",
       "        text-align: right;\n",
       "    }\n",
       "</style>\n",
       "<table border=\"1\" class=\"dataframe\">\n",
       "  <thead>\n",
       "    <tr style=\"text-align: right;\">\n",
       "      <th></th>\n",
       "      <th>marca_id</th>\n",
       "      <th>grabacion_id</th>\n",
       "      <th>archivo</th>\n",
       "      <th>punto_id</th>\n",
       "      <th>especie_id</th>\n",
       "      <th>tiempoi</th>\n",
       "      <th>tiempof</th>\n",
       "      <th>freqme</th>\n",
       "      <th>freqma</th>\n",
       "      <th>maxpot</th>\n",
       "    </tr>\n",
       "  </thead>\n",
       "  <tbody>\n",
       "    <tr>\n",
       "      <th>0</th>\n",
       "      <td>0</td>\n",
       "      <td>0</td>\n",
       "      <td>003bec244_14_1.wav</td>\n",
       "      <td>0</td>\n",
       "      <td>13</td>\n",
       "      <td>44.5440</td>\n",
       "      <td>45.1307</td>\n",
       "      <td>2531.25</td>\n",
       "      <td>5531.25</td>\n",
       "      <td>0</td>\n",
       "    </tr>\n",
       "    <tr>\n",
       "      <th>1</th>\n",
       "      <td>0</td>\n",
       "      <td>0</td>\n",
       "      <td>006ab765f_23_1.wav</td>\n",
       "      <td>0</td>\n",
       "      <td>0</td>\n",
       "      <td>39.9615</td>\n",
       "      <td>46.0452</td>\n",
       "      <td>7235.16</td>\n",
       "      <td>11283.40</td>\n",
       "      <td>0</td>\n",
       "    </tr>\n",
       "    <tr>\n",
       "      <th>2</th>\n",
       "      <td>0</td>\n",
       "      <td>0</td>\n",
       "      <td>007f87ba2_12_1.wav</td>\n",
       "      <td>0</td>\n",
       "      <td>8</td>\n",
       "      <td>39.1360</td>\n",
       "      <td>42.2720</td>\n",
       "      <td>562.50</td>\n",
       "      <td>3281.25</td>\n",
       "      <td>0</td>\n",
       "    </tr>\n",
       "    <tr>\n",
       "      <th>3</th>\n",
       "      <td>0</td>\n",
       "      <td>0</td>\n",
       "      <td>007f87ba2_20_1.wav</td>\n",
       "      <td>0</td>\n",
       "      <td>23</td>\n",
       "      <td>9.8880</td>\n",
       "      <td>13.3280</td>\n",
       "      <td>2343.75</td>\n",
       "      <td>5718.75</td>\n",
       "      <td>0</td>\n",
       "    </tr>\n",
       "    <tr>\n",
       "      <th>4</th>\n",
       "      <td>0</td>\n",
       "      <td>0</td>\n",
       "      <td>007f87ba2_9_1.wav</td>\n",
       "      <td>0</td>\n",
       "      <td>21</td>\n",
       "      <td>5.5733</td>\n",
       "      <td>8.3787</td>\n",
       "      <td>1125.00</td>\n",
       "      <td>5250.00</td>\n",
       "      <td>0</td>\n",
       "    </tr>\n",
       "  </tbody>\n",
       "</table>\n",
       "</div>"
      ],
      "text/plain": [
       "   marca_id  grabacion_id             archivo  punto_id  especie_id  tiempoi  \\\n",
       "0         0             0  003bec244_14_1.wav         0          13  44.5440   \n",
       "1         0             0  006ab765f_23_1.wav         0           0  39.9615   \n",
       "2         0             0  007f87ba2_12_1.wav         0           8  39.1360   \n",
       "3         0             0  007f87ba2_20_1.wav         0          23   9.8880   \n",
       "4         0             0   007f87ba2_9_1.wav         0          21   5.5733   \n",
       "\n",
       "   tiempof   freqme    freqma  maxpot  \n",
       "0  45.1307  2531.25   5531.25       0  \n",
       "1  46.0452  7235.16  11283.40       0  \n",
       "2  42.2720   562.50   3281.25       0  \n",
       "3  13.3280  2343.75   5718.75       0  \n",
       "4   8.3787  1125.00   5250.00       0  "
      ]
     },
     "execution_count": 29,
     "metadata": {},
     "output_type": "execute_result"
    }
   ],
   "source": [
    "dataDescription = pd.read_csv(\"grabaciones_comptencia_kaggle.csv\") \n",
    "dataDescription.head()"
   ]
  },
  {
   "cell_type": "code",
   "execution_count": 30,
   "metadata": {},
   "outputs": [
    {
     "name": "stdout",
     "output_type": "stream",
     "text": [
      "003bec244_14_1.wav\n",
      "2531.25\n",
      "5531.25\n",
      "44.544\n",
      "45.1307\n"
     ]
    }
   ],
   "source": [
    "MarkIndex = 0\n",
    "file = dataDescription['archivo'][MarkIndex]\n",
    "minimumFrequency = dataDescription['freqme'][MarkIndex]\n",
    "maximumFreqeuency = dataDescription['freqma'][MarkIndex]\n",
    "startTime = dataDescription['tiempoi'][MarkIndex]\n",
    "endTime = dataDescription['tiempof'][MarkIndex]\n",
    "print(file)\n",
    "print(minimumFrequency)\n",
    "print(maximumFreqeuency)\n",
    "print(startTime)\n",
    "print(endTime)\n",
    "\n",
    "#Set a default value for Duration of mark \n",
    "# revisar\n",
    "#milliseconds???????????????????????   \n",
    "durationTime = 460"
   ]
  },
  {
   "cell_type": "code",
   "execution_count": 31,
   "metadata": {},
   "outputs": [
    {
     "data": {
      "image/png": "[encoded data removed]",
      "text/plain": [
       "<Figure size 800x400 with 2 Axes>"
      ]
     },
     "metadata": {},
     "output_type": "display_data"
    }
   ],
   "source": [
    "#Get spectrogram information of mark\n",
    "tSelect, freqSelect, specSelect, minFreq, maxFreq = getMarcaFromSpectrogram(t,freq,spec, minimumFrequency,maximumFreqeuency, startTime,endTime, durationTime)\n",
    "\n",
    "#Plot the mark\n",
    "plotModSpecSimple(tSelect, freqSelect, specSelect, ylab = \"Frequency (Hz)\", xlab = \"Time (s)\")"
   ]
  },
  {
   "cell_type": "code",
   "execution_count": 32,
   "metadata": {},
   "outputs": [],
   "source": [
    "#Define clusters and kmeans cluster instace\n",
    "clusters = 6\n",
    "kCluster = KMeans(clusters)\n",
    "\n",
    "#First we must flatten the data to cluster it (1 dimensional vector)\n",
    "specSelectFlatten = specSelect.flatten().reshape(-1,1)"
   ]
  },
  {
   "cell_type": "code",
   "execution_count": 33,
   "metadata": {},
   "outputs": [
    {
     "name": "stdout",
     "output_type": "stream",
     "text": [
      "Y axis in this plot is a density proportion of the count for each bin in magnitude values\n"
     ]
    },
    {
     "data": {
      "image/png": "[encoded data removed]",
      "text/plain": [
       "<Figure size 640x480 with 1 Axes>"
      ]
     },
     "metadata": {},
     "output_type": "display_data"
    }
   ],
   "source": [
    "#Plot a histogram of magnitude values\n",
    "ax = sns.distplot(specSelectFlatten, hist = True, norm_hist=False, axlabel= \"Magnitude Value\")\n",
    "ax.set_ylabel(\"counting density\")\n",
    "print(\"Y axis in this plot is a density proportion of the count for each bin in magnitude values\")"
   ]
  },
  {
   "cell_type": "code",
   "execution_count": 34,
   "metadata": {},
   "outputs": [],
   "source": [
    "\n",
    "#Cluster the magnitude values\n",
    "#The returning vector will contain the cluster group associated to each entry \n",
    "specSelectFlattenCluster = kCluster.fit_predict(specSelectFlatten)"
   ]
  },
  {
   "cell_type": "code",
   "execution_count": 35,
   "metadata": {},
   "outputs": [],
   "source": [
    "#Make sure we order labels based on cluster's magnitude\n",
    "specSelectFlattenCluster, clusterMax = orderClusters(specSelectFlattenCluster, specSelectFlatten, clusters,  True)"
   ]
  },
  {
   "cell_type": "code",
   "execution_count": 36,
   "metadata": {},
   "outputs": [
    {
     "data": {
      "text/plain": [
       "Text(0.5, 0, 'Magnitude values')"
      ]
     },
     "execution_count": 36,
     "metadata": {},
     "output_type": "execute_result"
    },
    {
     "data": {
      "image/png": "[encoded data removed]",
      "text/plain": [
       "<Figure size 640x480 with 1 Axes>"
      ]
     },
     "metadata": {},
     "output_type": "display_data"
    }
   ],
   "source": [
    "#Representation of clusters, between each marker is a cluster group\n",
    "plt.scatter(np.concatenate(clusterMax), [[0]*clusters], marker = \"1\")\n",
    "plt.xlabel(\"Magnitude values\")\n"
   ]
  },
  {
   "cell_type": "code",
   "execution_count": 37,
   "metadata": {},
   "outputs": [
    {
     "data": {
      "image/png": "[encoded data removed]",
      "text/plain": [
       "<Figure size 800x400 with 2 Axes>"
      ]
     },
     "metadata": {},
     "output_type": "display_data"
    }
   ],
   "source": [
    "#Display how mark looks like after clutering magnitude values\n",
    "plotModSpecSimple(tSelect,freqSelect , specSelectFlattenCluster.reshape(specSelect.shape))"
   ]
  },
  {
   "cell_type": "code",
   "execution_count": 38,
   "metadata": {},
   "outputs": [
    {
     "data": {
      "image/png": "[encoded data removed]",
      "text/plain": [
       "<Figure size 800x400 with 2 Axes>"
      ]
     },
     "metadata": {},
     "output_type": "display_data"
    }
   ],
   "source": [
    "#Prepare data\n",
    "#Set all values other than 0 to 1 \n",
    "correctingIdx = np.where(specSelectFlattenCluster != 0)[0]\n",
    "copySelectFlattenCluster = specSelectFlattenCluster\n",
    "specSelectFlattenCluster = np.zeros(specSelectFlatten.shape)\n",
    "\n",
    "#Set all values not equal to 0 to 1. \n",
    "specSelectFlattenCluster[correctingIdx] = 1\n",
    "plotModSpecSimple(tSelect,freqSelect , specSelectFlattenCluster.reshape(specSelect.shape),  ylab = \"Frequency (Hz)\", xlab = \"Time (s)\")"
   ]
  },
  {
   "cell_type": "code",
   "execution_count": 39,
   "metadata": {},
   "outputs": [],
   "source": [
    "#Get coordinates of relevant points (Coordinates of those values containing 1)\n",
    "yIndeces, xIndeces = np.where(specSelectFlattenCluster.reshape(specSelect.shape) ==  1)\n",
    "coordinatesArray = np.array([yIndeces, xIndeces]).T\n"
   ]
  },
  {
   "cell_type": "code",
   "execution_count": 40,
   "metadata": {},
   "outputs": [],
   "source": [
    "#Define DBScan instace\n",
    "DBScan = DBSCAN(eps = 2, min_samples = 8)"
   ]
  },
  {
   "cell_type": "code",
   "execution_count": 41,
   "metadata": {},
   "outputs": [
    {
     "data": {
      "image/png": "[encoded data removed]",
      "text/plain": [
       "<Figure size 800x400 with 2 Axes>"
      ]
     },
     "metadata": {},
     "output_type": "display_data"
    }
   ],
   "source": [
    "detectedGroups = DBScan.fit_predict(coordinatesArray)\n",
    "\n",
    "#Get min and max groups (if min = -1, some points where not clustered) max will contain the number of cluster groups found\n",
    "minIndex = np.min(detectedGroups)\n",
    "\n",
    "\n",
    "#In order to have a range from 0 to 1, add abs value of minIndex ( if min index = 0 , it will remain the same\n",
    "#if minIndex == -1, it will relocate range from 0 to maxIndex+1)\n",
    "copySelectFlattenCluster[correctingIdx] = detectedGroups + abs(minIndex)\n",
    "detectedGroups += abs(minIndex)\n",
    "plotModSpecSimple(tSelect,freqSelect,copySelectFlattenCluster.reshape(specSelect.shape), xlab = \"Time (s)\", ylab = \"Frequency (Hz)\")\n",
    "\n",
    "displayGroups = np.zeros(specSelect.shape)\n",
    "\n",
    "for ctr, i in enumerate(coordinatesArray):\n",
    "    displayGroups[int(i[0])][ int(i[1])] = detectedGroups[ctr]\n",
    "maxIndex = np.max(detectedGroups)"
   ]
  },
  {
   "cell_type": "code",
   "execution_count": 42,
   "metadata": {},
   "outputs": [
    {
     "data": {
      "image/png": "[encoded data removed]",
      "text/plain": [
       "<Figure size 800x400 with 2 Axes>"
      ]
     },
     "metadata": {},
     "output_type": "display_data"
    }
   ],
   "source": [
    "rect = []\n",
    "for speechValue in range(1, maxIndex+1):\n",
    "    if len(np.where(detectedGroups== speechValue)[0]) != 0 :\n",
    "        \n",
    "        #Get min and max time and frequency values of the identified cluster groups\n",
    "        minf = np.min(np.where(displayGroups == speechValue)[0])\n",
    "        maxf = np.max(np.where(displayGroups == speechValue)[0])\n",
    "        startT = np.min(np.where(displayGroups == speechValue)[1])\n",
    "        endT = np.max(np.where(displayGroups == speechValue)[1])\n",
    "\n",
    "        #Create bounding box and add to boxes to be displayed\n",
    "        rect.append(patches.Rectangle((tSelect[startT],freqSelect[minf]),tSelect[endT]-tSelect[startT],freqSelect[maxf]-freqSelect[minf],linewidth=1,edgecolor='g',facecolor='none'))\n",
    "\n",
    "#Display marc with bounding boxes around the cluster groups found\n",
    "plotModSpecSimple(tSelect,freqSelect,displayGroups, xlab = \"Time (s)\", ylab = \"Frequency (Hz)\", title = \"Detected Clusters\", patch = rect)\n"
   ]
  },
  {
   "cell_type": "code",
   "execution_count": 43,
   "metadata": {},
   "outputs": [],
   "source": [
    "#Define training model parameters\n",
    "#These two parameters are used to define how many time steps and frequencies will the training model have\n",
    "timeInterval = 450\n",
    "frequencyInterval = 86\n",
    "\n",
    "\n",
    "for speechValue in range(1, maxIndex+1):\n",
    "    speechIndexes = np.where(detectedGroups == speechValue)[0]\n",
    "\n",
    "    minVal = np.min(coordinatesArray[speechIndexes], axis = 0)[1]\n",
    "\n",
    "    trainMatrix = np.zeros((frequencyInterval ,timeInterval))\n",
    "\n",
    "    for ctr, i in enumerate(coordinatesArray[speechIndexes]):\n",
    "        if i[1] - minVal < timeInterval:\n",
    "            trainMatrix[int(i[0])+minFreq][ int(i[1])-minVal] =1\n",
    "    plotModSpecSimple(t[0:timeInterval], freq[0:frequencyInterval],trainMatrix, xlab = \"Time (s)\", ylab = \"Frequency (Hz)\")    "
   ]
  },
  {
   "cell_type": "code",
   "execution_count": 44,
   "metadata": {},
   "outputs": [
    {
     "ename": "NameError",
     "evalue": "name 'trainMatrix' is not defined",
     "output_type": "error",
     "traceback": [
      "\u001b[0;31m---------------------------------------------------------------------------\u001b[0m",
      "\u001b[0;31mNameError\u001b[0m                                 Traceback (most recent call last)",
      "\u001b[1;32m/home/ursa/ccom/Investigacion/modelo_kaggle_dataset.ipynb Cell 24\u001b[0m in \u001b[0;36m<cell line: 1>\u001b[0;34m()\u001b[0m\n\u001b[0;32m----> <a href='vscode-notebook-cell:/home/ursa/ccom/Investigacion/modelo_kaggle_dataset.ipynb#X32sZmlsZQ%3D%3D?line=0'>1</a>\u001b[0m trainMatrix\u001b[39m.\u001b[39mshape\n",
      "\u001b[0;31mNameError\u001b[0m: name 'trainMatrix' is not defined"
     ]
    }
   ],
   "source": [
    "trainMatrix.shape"
   ]
  },
  {
   "cell_type": "markdown",
   "metadata": {},
   "source": [
    "Funcion para crear el dataset"
   ]
  },
  {
   "cell_type": "code",
   "execution_count": null,
   "metadata": {},
   "outputs": [],
   "source": [
    "def transformDataset2( especieCounter,freqIndex, datasetcsv, timeIndex = 460  ,  frequencyInterval = 86, dbscanE = 2, dbscanMin = 8, kmeanCluster = 6, datasetPath = \"kaggle_audios/\"):\n",
    "    DBScan = DBSCAN(eps = dbscanE, min_samples = dbscanMin)\n",
    "    markLoad = []\n",
    "    markLabel = []\n",
    "    markFailed = []\n",
    "    kCluster = KMeans(kmeanCluster)\n",
    "    # trainMatrix = np.zeros((freqIndex, timeIndex), dtype = \"int8\")\n",
    "    \n",
    "#     cambiar aqui    \n",
    "    dataset = pd.read_csv(datasetcsv)\n",
    "    groupByFile = dataset.groupby(\"archivo\")\n",
    "\n",
    "    fctr = 0\n",
    "    for eachFile in groupByFile:\n",
    "\n",
    "        #Each file contains all the metadata ifilenformation for each file\n",
    "            \n",
    "        #Get file name from each file\n",
    "        fileName = eachFile[0]\n",
    "        \n",
    "        t,freq, spec = specInfo(datasetPath + fileName)\n",
    "        # print(t)\n",
    "        # print(\"aqui\")\n",
    "        for idx, data in eachFile[1].iterrows():\n",
    "            # try:\n",
    "\n",
    "            minimumFrequency = data['freqme']\n",
    "            maximumFreqeuency = data['freqma']\n",
    "            startTime = data['tiempoi']\n",
    "            endTime = data['tiempof']\n",
    "            # print('aqui2')\n",
    "            tSelect, freqSelect, specSelect, minFreq, maxFreq= getMarcaFromSpectrogram(t,freq,spec, minimumFrequency,maximumFreqeuency, startTime,endTime, timeIndex)\n",
    "#                 return 0 \n",
    "\n",
    "            #Cluster noise\n",
    "            specSelectFlatten = specSelect.flatten().reshape(-1,1)\n",
    "\n",
    "            # some values will index out of range, so we need to catch the error\n",
    "            specSelectFlattenCluster = kCluster.fit_predict(specSelectFlatten)\n",
    "            try:\n",
    "                specSelectFlattenCluster, clusterMax = orderClusters(specSelectFlattenCluster, specSelectFlatten, kmeanCluster,  True)\n",
    "            except:\n",
    "                print(\"Error en ordenamiento de clusters en archivo: \" + fileName)\n",
    "                markFailed.append(fileName)\n",
    "                continue\n",
    "\n",
    "            # print('aqui3')\n",
    "            correctingIdx = np.where(specSelectFlattenCluster != 0)[0]\n",
    "            copySelectFlattenCluster = specSelectFlattenCluster\n",
    "            specSelectFlattenCluster = np.zeros(specSelectFlatten.shape)\n",
    "\n",
    "            #Set all values not equal to 0 to 1. \n",
    "            specSelectFlattenCluster[correctingIdx] = 1\n",
    "            #plotModSpecSimple(tSelect,freqSelect , specSelectFlattenCluster.reshape(specSelect.shape),  ylab = \"Frequency (Hz)\", xlab = \"Time (s)\")\n",
    "\n",
    "            #Get coordinates of relevant points (Coordinates of those values containing 1)\n",
    "            yIndeces, xIndeces = np.where(specSelectFlattenCluster.reshape(specSelect.shape) ==  1)\n",
    "            coordinatesArray = np.array([yIndeces, xIndeces]).T\n",
    "            # print('aqui4')\n",
    "            detectedGroups = DBScan.fit_predict(coordinatesArray)\n",
    "\n",
    "            #Get min and max groups (if min = -1, some points where not clustered) max will contain the number of cluster groups found\n",
    "            minIndex = np.min(detectedGroups)\n",
    "            detectedGroups += abs(minIndex)\n",
    "            maxIndex = np.max(detectedGroups)\n",
    "            # print('aqui5')\n",
    "            trainMatrix = np.zeros((frequencyInterval ,timeIndex), dtype = \"int8\")\n",
    "\n",
    "            for speechValue in range(1, maxIndex+1):\n",
    "                speechIndexes = np.where(detectedGroups == speechValue)[0]\n",
    "                # print('aqui6')\n",
    "                minVal = np.min(coordinatesArray[speechIndexes], axis = 0)[1]\n",
    "\n",
    "                trainMatrix[:,:] = 0\n",
    "                # print('aqui10')\n",
    "\n",
    "                for ctr, i in enumerate(coordinatesArray[speechIndexes]):\n",
    "                    # print('aqui7')\n",
    "                    if (int(i[0])+minFreq) >= len(trainMatrix):\n",
    "                        break\n",
    "                    if i[1] - minVal < timeIndex:\n",
    "                        # print('aqui7')\n",
    "                        # print(len(trainMatrix))\n",
    "                        # print(int(i[0])+minFreq)\n",
    "                        trainMatrix[int(i[0])+minFreq][ int(i[1])-minVal] =1\n",
    "            #plotModSpecSimple(t[0:timeInterval], freq[0:frequencyInterval],trainMatrix, xlab = \"Time (s)\", ylab = \"Frequency (Hz)\")    \n",
    "                # print('aqui8')\n",
    "                # print(type(especieCounter))\n",
    "                especieCounter[data['especie_id']]+=1\n",
    "                markLoad.append(trainMatrix)\n",
    "                markLabel.append(data['especie_id'])\n",
    "            # except Exception as e:\n",
    "            #     # print the line number that threw the exception\n",
    "            #     # print the code written in the line that threw the exception\n",
    "            #     markFailed.append(idx)\n",
    "            #     print(\"Marked failed: \", idx)\n",
    "            #     print(e, \"\\n\\n\")\n",
    "    markLabel = np.array(markLabel)\n",
    "    markLoad = np.array(markLoad)\n",
    "    \n",
    "    #/order by species id\n",
    "    idx = np.argsort(markLabel)\n",
    "    markLoad[:] = markLoad[idx]\n",
    "    markLabel[:] = markLabel[idx]\n",
    "\n",
    "    return markLoad, markLabel, especieCounter"
   ]
  },
  {
   "cell_type": "markdown",
   "metadata": {},
   "source": [
    "Set up random que no se que hace"
   ]
  },
  {
   "cell_type": "markdown",
   "metadata": {},
   "source": [
    "Get amount of labels"
   ]
  },
  {
   "cell_type": "code",
   "execution_count": null,
   "metadata": {},
   "outputs": [
    {
     "name": "stdout",
     "output_type": "stream",
     "text": [
      "(290, 10)\n",
      "26\n"
     ]
    }
   ],
   "source": [
    "especieGroup = dataDescription.groupby('especie_id')\n",
    "\n",
    "#Get especies ids and the size of \"marcas\" and get an index array to sort the order of species in terms\n",
    "#of how many marcs they have\n",
    "uniqueIDs = []\n",
    "counter = []\n",
    "for k,v in especieGroup.groups.items():\n",
    "    uniqueIDs.append(k)\n",
    "    counter.append(len(v))\n",
    "idx = np.argsort(counter)\n",
    "#Order the array based on \"marcas\" amount\n",
    "uniqueIDs[:] = np.array(uniqueIDs)[idx]\n",
    "\n",
    "\n",
    "especieConArchivo = dataDescription.groupby(['especie_id','archivo'])\n",
    "\n",
    "\n",
    "#Contiene el nombre de todas las grabaciones usadas\n",
    "grabaciones = []\n",
    "\n",
    "#Grabaciones usadas en el training\n",
    "aceptadas = []\n",
    "\n",
    "#Diccionario que contiene el nombre de las grabaciones usadas de cada especie\n",
    "grabacionName = {}\n",
    "#Diccionario que contiene el counter de marcas por grabacion de cada especie\n",
    "counterGrab = {}\n",
    "#Diccionario para contar la cantidad de marcas que tenemos de cada especie\n",
    "counterEspecie ={}\n",
    "for k, v in (especieConArchivo.groups).items():\n",
    "    #\n",
    "    if k[0] not in grabacionName.keys():\n",
    "        grabacionName[k[0]] = []\n",
    "        counterGrab[k[0]] = []\n",
    "        counterEspecie[k[0]] = 0 \n",
    "    grabacionName[k[0]].append( k[1])\n",
    "    counterGrab[k[0]].append(int(len(v)))\n",
    "    if k[1] not in grabaciones:\n",
    "        grabaciones.append(k[1])\n",
    "    \n",
    "#Ordenar las grabaciones dentro de cada especie por la cantidad de marcas que contienen\n",
    "for k, v in counterGrab.items():\n",
    "    sortByIndex = np.argsort(counterGrab[k])[::-1]\n",
    "    #Convertir arreglos a np arrays para poder ordenarlos usando indexing (argsort)\n",
    "    grabacionName[k] = np.array(grabacionName[k])\n",
    "    counterGrab[k] = np.array(counterGrab[k])\n",
    "\n",
    "    grabacionName[k][:] = grabacionName[k][sortByIndex]\n",
    "    counterGrab[k][:] = counterGrab[k][sortByIndex]\n",
    "    \n",
    "\n",
    "#Buffer que contiene el minimo cantidad de marcas que queremos para training\n",
    "finalCounter = 200\n",
    "#El for loop irá de la especie con menos marcas a la que mas tiene \n",
    "for specie in uniqueIDs:\n",
    "    #Ir por cada grabacion que tiene especie\n",
    "    for ctr, grabacion in enumerate(grabacionName[specie]):\n",
    "\n",
    "        #Verificar que la cantidad de marcas para training es mayor que \"finalcounter\"\n",
    "        if counterEspecie[specie] < finalCounter:\n",
    "            #Buscar la grabacion y la cantidad de marcas obtenidas de cada especie y añadirselo al counter\n",
    "            for k,v in grabacionName.items():\n",
    "                idx = np.where(v  == grabacion)[0]\n",
    "                if len(idx) == 1 and grabacion in grabaciones:\n",
    "                    counterEspecie[k] += counterGrab[k][idx]\n",
    "\n",
    "            #Remover la grabacion usada\n",
    "            if grabacion in grabaciones:\n",
    "                grabaciones.remove(grabacion)\n",
    "                aceptadas.append(grabacion)\n",
    "        else:\n",
    "            break\n",
    "# print(counterEspecie)\n",
    "# print(len(grabaciones))\n",
    "# print(len(aceptadas))\n",
    "\n",
    "#Elimina grabaciones usadas en training\n",
    "marcasTesting = dataDescription\n",
    "for i in aceptadas:\n",
    "    if i in marcasTesting['archivo'].unique():\n",
    "        idx = (marcasTesting.index[marcasTesting['archivo'] == i])\n",
    "        marcasTesting = marcasTesting.drop(idx)\n",
    "# print(len(marcasTesting['archivo'].unique()))\n",
    "\n",
    "#Eliminar grabaciones no usadas en training\n",
    "marcasTraining =  dataDescription\n",
    "print(marcasTraining.shape)\n",
    "for i in grabaciones:\n",
    "    if i in marcasTraining['archivo'].unique():\n",
    "        idx = (marcasTraining.index[marcasTraining['archivo'] == i])\n",
    "        print(idx)\n",
    "#         print(idx)\n",
    "        marcasTraining = marcasTraining.drop(idx)\n",
    "#         print(marcasTraining.shape)\n",
    "# print(len(marcasTraining['archivo'].unique()))\n",
    "\n",
    "#Identificar la cantidad minima de marcas que unmarcasTraininga especie tiene\n",
    "minMarcas = min(marcasTraining.groupby(\"especie_id\").size())\n",
    "# print(marcasTraining.groupby(\"especie_id\").size())\n",
    "trainingMarcas = minMarcas\n",
    "trainingFinal = marcasTraining.groupby('especie_id').apply(lambda x: x.sample( trainingMarcas, random_state= 10))\n",
    "# trainingFinal.groupby(\"especie_id\").size()\n",
    "# print(trainingFinal)\n",
    "# print(trainingFinal.shape)\n",
    "\n",
    "#Identificar training set (para evaluar los modelos)\n",
    "\n",
    "# minMarcas = min(marcasTesting.groupby(\"especie_id\").size())\n",
    "# print(marcasTesting.groupby(\"especie_id\").size(), minMarcas)\n",
    "# testingMarcas = minMarcas\n",
    "# testingFinal = marcasTesting.groupby('especie_id').apply(lambda x: x.sample( testingMarcas, random_state= 10))\n",
    "# testingFinal.groupby(\"especie_id\").size()\n",
    "\n",
    "# get length of dict\n",
    "print(len(counterEspecie))"
   ]
  },
  {
   "cell_type": "code",
   "execution_count": null,
   "metadata": {},
   "outputs": [
    {
     "name": "stdout",
     "output_type": "stream",
     "text": [
      "(25,)\n",
      "25\n"
     ]
    }
   ],
   "source": [
    "# # maxFreqForInterval = 8000\n",
    "\n",
    "# dataDescription = pd.read_csv(\"grabaciones_comptencia_kaggle.csv\") \n",
    "# # speciesID = dataDescription['especie_id'].unique()[:-1]#gives array of all species in csv\n",
    "\n",
    "#     #Since we are only using the 8000 frequencies and below, remove species outside the bounds ##why are we only using freqs < 8000\n",
    "# dataDescription = dataDescription.groupby('especie_id').filter(lambda x: max(x['freqma']) < 8000)\n",
    "\n",
    "\n",
    "# indexes= dataDescription.index[dataDescription['especie_id'] == 12]\n",
    "# dataDescription = dataDescription.drop(indexes).reset_index()\n",
    "# print(dataDescription)\n",
    "# indexes= dataDescription.index[dataDescription['especie_id'] == 10]\n",
    "# dataDescription = dataDescription.drop(indexes).reset_index()\n",
    "# np.sort(dataDescription['especie_id'].unique())\n",
    "# # print(dataDescription.shape)\n",
    "\n",
    "# maxtimeWithSTD = np.max(dataDescription.groupby('especie_id').apply(lambda x: (np.mean(x['tiempof']- x[\"tiempoi\"]) +np.std(x['tiempof']- x[\"tiempoi\"]))))\n",
    "# t,freq,spec = specInfo(\"./kaggle_audios/0a9cdd8a5_7_1.wav\")\n",
    "# getTimeInterval = Filter(t, 0,maxtimeWithSTD)[1]\n",
    "# frequencyLimit = ((np.abs(freq - maxFreqForInterval)).argmin()+1)\n",
    "# timeLimit = ((np.abs(t - maxtimeWithSTD)).argmin()+1)\n",
    "\n",
    "data_csv = pd.read_csv(\"grabaciones_comptencia_kaggle.csv\") \n",
    "# get the unique amount of species_id in the csv\n",
    "speciesID = data_csv['especie_id'].unique()[:-1]#gives array of all species in csv\n",
    "print(speciesID.shape)\n",
    "specied_id_amount = speciesID.shape[0]\n",
    "print(specied_id_amount)"
   ]
  },
  {
   "cell_type": "markdown",
   "metadata": {},
   "source": [
    "Get amount of samples"
   ]
  },
  {
   "cell_type": "code",
   "execution_count": null,
   "metadata": {},
   "outputs": [],
   "source": [
    "#get the \n",
    "\n"
   ]
  },
  {
   "cell_type": "code",
   "execution_count": null,
   "metadata": {},
   "outputs": [],
   "source": [
    "trainingDataset, trainingLabels, marcasEspecies = transformDataset2(especieCounter = counterEspecie,\n",
    "                                                                     datasetcsv= \"grabaciones_comptencia_kaggle.csv\", \n",
    "                                                                     freqIndex=frequencyLimit)\n",
    "\n"
   ]
  },
  {
   "cell_type": "code",
   "execution_count": null,
   "metadata": {},
   "outputs": [
    {
     "name": "stdout",
     "output_type": "stream",
     "text": [
      "(104, 10)\n",
      "{0: array([403]), 1: array([273]), 2: array([178]), 3: array([76]), 4: array([295]), 5: array([222]), 6: array([142]), 7: array([280]), 8: array([406]), 9: array([155]), 10: array([58]), 11: array([164]), 12: array([98]), 13: array([127]), 14: array([180]), 15: array([319]), 16: array([365]), 17: array([203]), 18: array([253]), 19: array([499]), 20: array([917]), 21: array([233]), 22: array([110]), 23: array([109]), 24: array([85]), 25: array([399])}\n",
      "0\n",
      "[403]\n"
     ]
    }
   ],
   "source": [
    "# print(testingFinal.shape)\n",
    "print(trainingFinal.shape)\n",
    "print(marcasEspecies)\n",
    "key = list(marcasEspecies)\n",
    "key = key[0]\n",
    "print(key)\n",
    "print(marcasEspecies[key])\n"
   ]
  },
  {
   "cell_type": "code",
   "execution_count": null,
   "metadata": {},
   "outputs": [
    {
     "name": "stdout",
     "output_type": "stream",
     "text": [
      "[ 0  0  0 ... 25 25 25]\n",
      "(6125, 86, 460)\n",
      "(6125,)\n",
      "0\n"
     ]
    }
   ],
   "source": [
    "from sklearn import model_selection as mod_selec\n",
    "from sklearn.model_selection import KFold\n",
    "import tensorflow as tf\n",
    "from sklearn.preprocessing import OneHotEncoder\n",
    "from sklearn.metrics import accuracy_score, confusion_matrix, classification_report\n",
    "print(trainingLabels)\n",
    "print(trainingDataset.shape)\n",
    "print(trainingLabels.shape)\n",
    "print(trainingLabels[0])"
   ]
  },
  {
   "cell_type": "code",
   "execution_count": null,
   "metadata": {},
   "outputs": [
    {
     "data": {
      "text/plain": [
       "[<matplotlib.lines.Line2D at 0x7f2039763d30>]"
      ]
     },
     "execution_count": 48,
     "metadata": {},
     "output_type": "execute_result"
    },
    {
     "data": {
      "image/png": "[encoded data removed]",
      "text/plain": [
       "<Figure size 640x480 with 1 Axes>"
      ]
     },
     "metadata": {},
     "output_type": "display_data"
    }
   ],
   "source": [
    "plt.plot(trainingLabels, color=\"red\")"
   ]
  },
  {
   "cell_type": "code",
   "execution_count": null,
   "metadata": {},
   "outputs": [
    {
     "name": "stdout",
     "output_type": "stream",
     "text": [
      "26\n"
     ]
    }
   ],
   "source": [
    "# Defining container to store score per-fold\n",
    "acc_per_fold = []\n",
    "print(np.unique(trainingLabels).shape[0])"
   ]
  },
  {
   "cell_type": "code",
   "execution_count": null,
   "metadata": {},
   "outputs": [
    {
     "name": "stdout",
     "output_type": "stream",
     "text": [
      "Epoch 1/10\n",
      "154/154 [==============================] - 1s 6ms/step - loss: 1.4681 - accuracy: 0.5592\n",
      "Epoch 2/10\n",
      "154/154 [==============================] - 1s 5ms/step - loss: 0.8597 - accuracy: 0.6827\n",
      "Epoch 3/10\n",
      "154/154 [==============================] - 1s 5ms/step - loss: 0.6764 - accuracy: 0.7392\n",
      "Epoch 4/10\n",
      "154/154 [==============================] - 1s 5ms/step - loss: 0.5774 - accuracy: 0.7763\n",
      "Epoch 5/10\n",
      "154/154 [==============================] - 1s 5ms/step - loss: 0.5193 - accuracy: 0.7910\n",
      "Epoch 6/10\n",
      "154/154 [==============================] - 1s 5ms/step - loss: 0.4855 - accuracy: 0.8024\n",
      "Epoch 7/10\n",
      "154/154 [==============================] - 1s 5ms/step - loss: 0.4665 - accuracy: 0.8057\n",
      "Epoch 8/10\n",
      "154/154 [==============================] - 1s 5ms/step - loss: 0.4526 - accuracy: 0.8092\n",
      "Epoch 9/10\n",
      "154/154 [==============================] - 1s 5ms/step - loss: 0.4470 - accuracy: 0.8118\n",
      "Epoch 10/10\n",
      "154/154 [==============================] - 1s 5ms/step - loss: 0.4406 - accuracy: 0.8137\n",
      "Epoch 1/10\n",
      "154/154 [==============================] - 1s 5ms/step - loss: 1.5570 - accuracy: 0.5055\n",
      "Epoch 2/10\n",
      "154/154 [==============================] - 1s 5ms/step - loss: 1.0527 - accuracy: 0.6127\n",
      "Epoch 3/10\n",
      "154/154 [==============================] - 1s 5ms/step - loss: 0.9191 - accuracy: 0.6610\n",
      "Epoch 4/10\n",
      "154/154 [==============================] - 1s 5ms/step - loss: 0.8380 - accuracy: 0.6855\n",
      "Epoch 5/10\n",
      "154/154 [==============================] - 1s 5ms/step - loss: 0.7953 - accuracy: 0.6998\n",
      "Epoch 6/10\n",
      "154/154 [==============================] - 1s 5ms/step - loss: 0.7639 - accuracy: 0.7106\n",
      "Epoch 7/10\n",
      "154/154 [==============================] - 1s 5ms/step - loss: 0.7470 - accuracy: 0.7151\n",
      "Epoch 8/10\n",
      "154/154 [==============================] - 1s 5ms/step - loss: 0.7328 - accuracy: 0.7165\n",
      "Epoch 9/10\n",
      "154/154 [==============================] - 1s 5ms/step - loss: 0.7261 - accuracy: 0.7186\n",
      "Epoch 10/10\n",
      "154/154 [==============================] - 1s 5ms/step - loss: 0.7233 - accuracy: 0.7188\n",
      "Epoch 1/10\n",
      "154/154 [==============================] - 1s 5ms/step - loss: 1.6790 - accuracy: 0.4835\n",
      "Epoch 2/10\n",
      "154/154 [==============================] - 1s 5ms/step - loss: 1.1252 - accuracy: 0.5988\n",
      "Epoch 3/10\n",
      "154/154 [==============================] - 1s 5ms/step - loss: 0.9607 - accuracy: 0.6541\n",
      "Epoch 4/10\n",
      "154/154 [==============================] - 1s 5ms/step - loss: 0.8700 - accuracy: 0.6835\n",
      "Epoch 5/10\n",
      "154/154 [==============================] - 1s 5ms/step - loss: 0.8135 - accuracy: 0.6949\n",
      "Epoch 6/10\n",
      "154/154 [==============================] - 1s 5ms/step - loss: 0.7855 - accuracy: 0.7037\n",
      "Epoch 7/10\n",
      "154/154 [==============================] - 1s 5ms/step - loss: 0.7676 - accuracy: 0.7088\n",
      "Epoch 8/10\n",
      "154/154 [==============================] - 1s 5ms/step - loss: 0.7590 - accuracy: 0.7100\n",
      "Epoch 9/10\n",
      "154/154 [==============================] - 1s 5ms/step - loss: 0.7541 - accuracy: 0.7110\n",
      "Epoch 10/10\n",
      "154/154 [==============================] - 1s 5ms/step - loss: 0.7494 - accuracy: 0.7100\n",
      "Epoch 1/10\n",
      "154/154 [==============================] - 1s 5ms/step - loss: 1.6810 - accuracy: 0.4763\n",
      "Epoch 2/10\n",
      "154/154 [==============================] - 1s 5ms/step - loss: 1.0019 - accuracy: 0.6180\n",
      "Epoch 3/10\n",
      "154/154 [==============================] - 1s 5ms/step - loss: 0.7726 - accuracy: 0.6969\n",
      "Epoch 4/10\n",
      "154/154 [==============================] - 1s 5ms/step - loss: 0.6246 - accuracy: 0.7469\n",
      "Epoch 5/10\n",
      "154/154 [==============================] - 1s 5ms/step - loss: 0.5380 - accuracy: 0.7743\n",
      "Epoch 6/10\n",
      "154/154 [==============================] - 1s 5ms/step - loss: 0.4856 - accuracy: 0.7792\n",
      "Epoch 7/10\n",
      "154/154 [==============================] - 1s 5ms/step - loss: 0.4543 - accuracy: 0.7937\n",
      "Epoch 8/10\n",
      "154/154 [==============================] - 1s 5ms/step - loss: 0.4322 - accuracy: 0.8006\n",
      "Epoch 9/10\n",
      "154/154 [==============================] - 1s 5ms/step - loss: 0.4226 - accuracy: 0.8000\n",
      "Epoch 10/10\n",
      "154/154 [==============================] - 1s 5ms/step - loss: 0.4154 - accuracy: 0.8043\n",
      "Epoch 1/10\n",
      "154/154 [==============================] - 1s 5ms/step - loss: 1.4853 - accuracy: 0.5271\n",
      "Epoch 2/10\n",
      "154/154 [==============================] - 1s 5ms/step - loss: 0.9251 - accuracy: 0.6276\n",
      "Epoch 3/10\n",
      "154/154 [==============================] - 1s 5ms/step - loss: 0.7703 - accuracy: 0.6900\n",
      "Epoch 4/10\n",
      "154/154 [==============================] - 1s 5ms/step - loss: 0.6744 - accuracy: 0.7218\n",
      "Epoch 5/10\n",
      "154/154 [==============================] - 1s 5ms/step - loss: 0.6145 - accuracy: 0.7355\n",
      "Epoch 6/10\n",
      "154/154 [==============================] - 1s 5ms/step - loss: 0.5774 - accuracy: 0.7498\n",
      "Epoch 7/10\n",
      "154/154 [==============================] - 1s 5ms/step - loss: 0.5493 - accuracy: 0.7580\n",
      "Epoch 8/10\n",
      "154/154 [==============================] - 1s 5ms/step - loss: 0.5333 - accuracy: 0.7618\n",
      "Epoch 9/10\n",
      "154/154 [==============================] - 1s 5ms/step - loss: 0.5225 - accuracy: 0.7643\n",
      "Epoch 10/10\n",
      "154/154 [==============================] - 1s 5ms/step - loss: 0.5175 - accuracy: 0.7600\n"
     ]
    }
   ],
   "source": [
    "kf = KFold(n_splits=5)\n",
    "kf.get_n_splits(trainingDataset)\n",
    "\n",
    "\n",
    "for train_index, test_index in kf.split(trainingDataset):\n",
    "    \n",
    "    X_train, X_test = trainingDataset[train_index], trainingDataset[test_index]\n",
    "    y_train, y_test = trainingLabels[train_index], trainingLabels[test_index]\n",
    "    y_label = np.unique(y_train).shape[0]\n",
    "    \n",
    "    #define model\n",
    "    model = tf.keras.models.Sequential([\n",
    "        tf.keras.layers.Conv1D(32, 3, activation='relu', input_shape=(86, 460)),\n",
    "        tf.keras.layers.MaxPooling1D(2,2),\n",
    "        tf.keras.layers.Flatten(),\n",
    "        tf.keras.layers.Dense(128, activation='relu'),\n",
    "        tf.keras.layers.Dense(y_label, activation='softmax')\n",
    "    ])\n",
    "    \n",
    "    #compile model\n",
    "    model.compile(loss = 'categorical_crossentropy', optimizer='rmsprop', metrics=['accuracy'])\n",
    "    \n",
    "    \n",
    "    #set up one hot enconder used\n",
    "    y_onehot = y_train.reshape((y_train.size, 1)) # can also use np.transpose,\n",
    "    y_test_OneHot = y_test.reshape((y_test.size,1))\n",
    "    onehot = OneHotEncoder(sparse=False, handle_unknown = 'ignore') #puts the lables in a vector\n",
    "    y_hotenc = onehot.fit_transform(y_onehot)\n",
    "    y_test_OneHotEnc = onehot.transform(y_test_OneHot)\n",
    "\n",
    "    \n",
    "    #fit data into model\n",
    "    history =  model.fit(X_train,y_hotenc, epochs = 10)\n",
    "\n",
    "    # Generate generalization metrics\n",
    "    scores = model.evaluate(X_train, y_hotenc, verbose=0)\n",
    "    acc_per_fold.append(scores[1] * 100)\n"
   ]
  },
  {
   "cell_type": "code",
   "execution_count": null,
   "metadata": {},
   "outputs": [
    {
     "name": "stdout",
     "output_type": "stream",
     "text": [
      "------------------------------------------------------------------------\n",
      "Score per fold\n",
      "--------------------------------------\n",
      "Scope per fold\n",
      "> Fold 1 - Accuracy: 81.48979544639587%\n",
      "--------------------------------------\n",
      "Scope per fold\n",
      "> Fold 2 - Accuracy: 72.04081416130066%\n",
      "--------------------------------------\n",
      "Scope per fold\n",
      "> Fold 3 - Accuracy: 71.24489545822144%\n",
      "--------------------------------------\n",
      "Scope per fold\n",
      "> Fold 4 - Accuracy: 79.34693694114685%\n",
      "--------------------------------------\n",
      "Scope per fold\n",
      "> Fold 5 - Accuracy: 77.16326713562012%\n",
      "------------------------------------------------------------------------\n",
      "Average scores for all folds:\n",
      "> Accuracy: 76.25714182853699 (+- 4.016182104157628)\n"
     ]
    }
   ],
   "source": [
    "# == Provide average scores ==\n",
    "print('------------------------------------------------------------------------')\n",
    "print('Score per fold')\n",
    "for i in range(0, len(acc_per_fold)):\n",
    "    print('--------------------------------------')\n",
    "    print('Scope per fold')\n",
    "    print(f'> Fold {i+1} - Accuracy: {acc_per_fold[i]}%')\n",
    "\n",
    "print('------------------------------------------------------------------------')\n",
    "print('Average scores for all folds:')\n",
    "print(f'> Accuracy: {np.mean(acc_per_fold)} (+- {np.std(acc_per_fold)})')\n"
   ]
  }
 ],
 "metadata": {
  "kernelspec": {
   "display_name": "Python 3.10.6 ('investigacion': venv)",
   "language": "python",
   "name": "python3"
  },
  "language_info": {
   "codemirror_mode": {
    "name": "ipython",
    "version": 3
   },
   "file_extension": ".py",
   "mimetype": "text/x-python",
   "name": "python",
   "nbconvert_exporter": "python",
   "pygments_lexer": "ipython3",
   "version": "3.10.6"
  },
  "orig_nbformat": 4,
  "vscode": {
   "interpreter": {
    "hash": "5f6ec1abbedff62226ac7b112b976be826434302a90e08de3d0a2a24a58f0a05"
   }
  }
 },
 "nbformat": 4,
 "nbformat_minor": 2
}
